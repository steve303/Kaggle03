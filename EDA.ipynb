{
 "cells": [
  {
   "cell_type": "code",
   "execution_count": 47,
   "metadata": {},
   "outputs": [
    {
     "name": "stderr",
     "output_type": "stream",
     "text": [
      "Using TensorFlow backend.\n"
     ]
    }
   ],
   "source": [
    "import numpy as np\n",
    "from numpy import load\n",
    "import tensorflow as tf\n",
    "import keras"
   ]
  },
  {
   "cell_type": "code",
   "execution_count": 37,
   "metadata": {},
   "outputs": [
    {
     "name": "stdout",
     "output_type": "stream",
     "text": [
      "(39209, 32, 32, 3)\n",
      "(39209,)\n",
      "(12630, 32, 32, 3)\n"
     ]
    }
   ],
   "source": [
    "data = np.load('train_and_test.npz')  #what kind of file is this? zipped np.array file\n",
    "type(data)\n",
    "\n",
    "X = [data[key] for key in data]  #??how does this work? \"data\" is not a dictionary data type but a NpzFile type\n",
    "\n",
    "print('len of X = ', len(X))\n",
    "print(type(X[0]))\n",
    "\n",
    "xtrain = X[0]\n",
    "ytrain = X[1]\n",
    "xtest = X[2]\n",
    "\n",
    "print(xtrain.shape)\n",
    "print(ytrain.shape)\n",
    "print(xtest.shape)"
   ]
  },
  {
   "cell_type": "code",
   "execution_count": 58,
   "metadata": {},
   "outputs": [
    {
     "data": {
      "text/plain": [
       "array([[ 75,  78,  80],\n",
       "       [ 74,  76,  78],\n",
       "       [ 83,  84,  83],\n",
       "       [101,  92,  85],\n",
       "       [130, 107, 102],\n",
       "       [153, 113, 114],\n",
       "       [173, 114, 117],\n",
       "       [188, 124, 124],\n",
       "       [190, 151, 150],\n",
       "       [243, 228, 230],\n",
       "       [255, 250, 255],\n",
       "       [243, 239, 255],\n",
       "       [232, 235, 255],\n",
       "       [170, 180, 212],\n",
       "       [127, 146, 182],\n",
       "       [124, 153, 175],\n",
       "       [156, 181, 181],\n",
       "       [203, 212, 203],\n",
       "       [239, 234, 238],\n",
       "       [249, 238, 251],\n",
       "       [233, 214, 227],\n",
       "       [220, 172, 181],\n",
       "       [195, 116, 119],\n",
       "       [149,  75,  74],\n",
       "       [141,  77,  80],\n",
       "       [133,  92, 100],\n",
       "       [107,  94, 103],\n",
       "       [ 83,  86,  90],\n",
       "       [ 73,  78,  78],\n",
       "       [ 67,  74,  73],\n",
       "       [ 65,  69,  68],\n",
       "       [ 66,  67,  66]], dtype=uint8)"
      ]
     },
     "execution_count": 58,
     "metadata": {},
     "output_type": "execute_result"
    }
   ],
   "source": [
    "xtrain[0][0][:][:]"
   ]
  },
  {
   "cell_type": "code",
   "execution_count": 52,
   "metadata": {},
   "outputs": [
    {
     "data": {
      "text/plain": [
       "array([[[ 75,  78,  80],\n",
       "        [ 74,  76,  78],\n",
       "        [ 83,  84,  83],\n",
       "        ...,\n",
       "        [ 67,  74,  73],\n",
       "        [ 65,  69,  68],\n",
       "        [ 66,  67,  66]],\n",
       "\n",
       "       [[ 82,  83,  85],\n",
       "        [ 80,  80,  82],\n",
       "        [ 87,  86,  83],\n",
       "        ...,\n",
       "        [ 73,  77,  77],\n",
       "        [ 75,  77,  75],\n",
       "        [ 79,  79,  77]],\n",
       "\n",
       "       [[ 79,  79,  81],\n",
       "        [ 84,  83,  85],\n",
       "        [ 91,  88,  89],\n",
       "        ...,\n",
       "        [ 72,  74,  72],\n",
       "        [ 74,  75,  71],\n",
       "        [ 78,  78,  74]],\n",
       "\n",
       "       ...,\n",
       "\n",
       "       [[126, 128, 133],\n",
       "        [118, 123, 128],\n",
       "        [108, 117, 120],\n",
       "        ...,\n",
       "        [ 96,  96,  90],\n",
       "        [ 99, 101,  94],\n",
       "        [ 99, 103,  99]],\n",
       "\n",
       "       [[ 90,  94,  98],\n",
       "        [ 91,  97, 103],\n",
       "        [ 77,  87,  92],\n",
       "        ...,\n",
       "        [104, 104,  97],\n",
       "        [107, 111, 102],\n",
       "        [ 95, 103,  97]],\n",
       "\n",
       "       [[ 85,  84,  87],\n",
       "        [ 93,  99, 104],\n",
       "        [ 69,  80,  85],\n",
       "        ...,\n",
       "        [101, 102,  94],\n",
       "        [ 98, 101,  90],\n",
       "        [ 90,  97,  89]]], dtype=uint8)"
      ]
     },
     "execution_count": 52,
     "metadata": {},
     "output_type": "execute_result"
    }
   ],
   "source": [
    "xtrain[0]"
   ]
  }
 ],
 "metadata": {
  "kernelspec": {
   "display_name": "Python 3",
   "language": "python",
   "name": "python3"
  },
  "language_info": {
   "codemirror_mode": {
    "name": "ipython",
    "version": 3
   },
   "file_extension": ".py",
   "mimetype": "text/x-python",
   "name": "python",
   "nbconvert_exporter": "python",
   "pygments_lexer": "ipython3",
   "version": "3.7.3"
  }
 },
 "nbformat": 4,
 "nbformat_minor": 4
}
