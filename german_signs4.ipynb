{
 "cells": [
  {
   "cell_type": "code",
   "execution_count": 0,
   "metadata": {
    "colab": {},
    "colab_type": "code",
    "id": "SIpaxXnQsvTE"
   },
   "outputs": [],
   "source": [
    "import numpy as np\n",
    "from numpy import load\n",
    "from sklearn.model_selection import train_test_split\n",
    "import matplotlib.pyplot as plt\n",
    "import pandas as pd\n"
   ]
  },
  {
   "cell_type": "code",
   "execution_count": 2,
   "metadata": {
    "colab": {
     "base_uri": "https://localhost:8080/",
     "height": 34
    },
    "colab_type": "code",
    "id": "nJmca26iyZET",
    "outputId": "142125bf-8ce0-4bfe-d136-660159fadd08"
   },
   "outputs": [
    {
     "name": "stderr",
     "output_type": "stream",
     "text": [
      "Using TensorFlow backend.\n"
     ]
    }
   ],
   "source": [
    "\n",
    "import tensorflow as tf\n",
    "import keras\n",
    "from keras.models import Sequential\n",
    "from keras.layers import Dense, Conv2D, MaxPooling2D, Flatten, Dropout, BatchNormalization"
   ]
  },
  {
   "cell_type": "code",
   "execution_count": 3,
   "metadata": {
    "colab": {
     "base_uri": "https://localhost:8080/",
     "height": 101
    },
    "colab_type": "code",
    "id": "wZ59xrUVtEgd",
    "outputId": "96e39766-f95e-46f4-c4c9-89a5357c09ab"
   },
   "outputs": [
    {
     "name": "stdout",
     "output_type": "stream",
     "text": [
      "len of X =  3\n",
      "<class 'numpy.ndarray'>\n",
      "(39209, 32, 32, 3)\n",
      "(39209,)\n",
      "(12630, 32, 32, 3)\n"
     ]
    }
   ],
   "source": [
    "#unpack data from source\n",
    "\n",
    "data = np.load('./drive/My Drive/Colab Notebooks/data/csci4622_kaggle3/train_and_test.npz')  #what kind of file is this? zipped np.array file\n",
    "type(data)\n",
    "\n",
    "X = [data[key] for key in data]  #??? why does this work? \"data\" is not a dictionary data type but a NpzFile type\n",
    "\n",
    "print('len of X = ', len(X))  #there are three separate np arrays in the list: 1) train data 2) train labels 3) test data, no labels\n",
    "print(type(X[0]))\n",
    "\n",
    "xtrain0 = X[0]\n",
    "ytrain0 = X[1]  #ytrain0 contains values between 0-42; so 43 categories\n",
    "xtest0 = X[2]   #this is test data for final kaggle submission; it still needs to be normalized\n",
    "\n",
    "print(xtrain0.shape)\n",
    "print(ytrain0.shape)\n",
    "print(xtest0.shape)"
   ]
  },
  {
   "cell_type": "code",
   "execution_count": 4,
   "metadata": {
    "colab": {
     "base_uri": "https://localhost:8080/",
     "height": 34
    },
    "colab_type": "code",
    "id": "gorc7EdSaDvE",
    "outputId": "6e50e112-8c84-4a11-fb17-efd17f7a4663"
   },
   "outputs": [
    {
     "data": {
      "text/plain": [
       "42"
      ]
     },
     "execution_count": 4,
     "metadata": {
      "tags": []
     },
     "output_type": "execute_result"
    }
   ],
   "source": [
    "np.max(ytrain0)"
   ]
  },
  {
   "cell_type": "code",
   "execution_count": 5,
   "metadata": {
    "colab": {
     "base_uri": "https://localhost:8080/",
     "height": 84
    },
    "colab_type": "code",
    "id": "fN9GbsqEwgF8",
    "outputId": "8a0d6a44-c7c5-4a2f-b4ed-476799386e7d"
   },
   "outputs": [
    {
     "name": "stdout",
     "output_type": "stream",
     "text": [
      "(37248, 32, 32, 3)\n",
      "(37248, 43)\n",
      "(1961, 32, 32, 3)\n",
      "(1961, 43)\n"
     ]
    }
   ],
   "source": [
    "#preprocess data - normalize input; divide all data by max pixel value, 255 ; we might also consider z normalization\n",
    "\n",
    "#hot encode the labels\n",
    "ymax = np.max(ytrain0)\n",
    "ytrain = tf.keras.utils.to_categorical(ytrain0, ymax+1)\n",
    "\n",
    "maxpixel_val = np.max(xtrain0) \n",
    "xtrain = xtrain0/maxpixel_val\n",
    "xtest = xtest0/maxpixel_val  \n",
    "\n",
    "x_tr, x_tst, y_tr, y_tst = train_test_split(xtrain, ytrain, test_size = 0.05,shuffle = True)  #results overfit if data is not shuffled!!!\n",
    "print(x_tr.shape)\n",
    "print(y_tr.shape)\n",
    "print(x_tst.shape)\n",
    "print(y_tst.shape)\n",
    "\n"
   ]
  },
  {
   "cell_type": "code",
   "execution_count": 6,
   "metadata": {
    "colab": {
     "base_uri": "https://localhost:8080/",
     "height": 67
    },
    "colab_type": "code",
    "id": "ZhpMj8ZBBwSb",
    "outputId": "cd8b0803-a1c9-4a43-f281-8e486a76c6df"
   },
   "outputs": [
    {
     "name": "stdout",
     "output_type": "stream",
     "text": [
      "0\n",
      "[1. 0. 0. 0. 0. 0. 0. 0. 0. 0. 0. 0. 0. 0. 0. 0. 0. 0. 0. 0. 0. 0. 0. 0.\n",
      " 0. 0. 0. 0. 0. 0. 0. 0. 0. 0. 0. 0. 0. 0. 0. 0. 0. 0. 0.]\n"
     ]
    }
   ],
   "source": [
    "print(ytrain0[0])  #before and after hot encoding\n",
    "print(ytrain[0])"
   ]
  },
  {
   "cell_type": "code",
   "execution_count": 0,
   "metadata": {
    "colab": {},
    "colab_type": "code",
    "id": "nI4NTgHSMKIT"
   },
   "outputs": [],
   "source": [
    "#build model\n",
    "def build_model(activation, batch_normalization = False):\n",
    "    model = Sequential()\n",
    "    model.add(Conv2D(8, (3,3), activation = activation, padding = 'same', name = 'conv1', \n",
    "                    input_shape = (32,32,3))) \n",
    "    if batch_normalization: \n",
    "        model.add(BatchNormalization())\n",
    "    #model.add(MaxPooling2D((2,2), name = 'maxpool1')) \n",
    "    #model.add(Conv2D(16, (3,3), activation = activation, padding = 'same', name = 'conv2' ))\n",
    "    #if batch_normalization: \n",
    "    #    model.add(BatchNormalization())\n",
    "    model.add(MaxPooling2D((2,2), name = 'maxpool2'))\n",
    "    model.add(Conv2D(32, (3,3), activation = 'relu', padding = 'same', name = 'conv3'))\n",
    "    if batch_normalization: \n",
    "        model.add(BatchNormalization())\n",
    "    #model.add(MaxPooling2D((2,2), name = 'maxpool3'))\n",
    "    #model.add(Conv2D(32, (3, 3), activation=activation, padding='same', name='conv_4'))\n",
    "    #if batch_normalization: \n",
    "    #    model.add(BatchNormalization())\n",
    "    \n",
    "    model.add(MaxPooling2D((2, 2), name='maxpool_4'))\n",
    "    model.add(Flatten())\n",
    "    #model.add(Dropout(0.2))\n",
    "    model.add(Dense(64, activation=activation, name='dense_1'))\n",
    "    if batch_normalization: \n",
    "        model.add(BatchNormalization())\n",
    "    #model.add(Dense(32, activation=activation, name='dense_2'))\n",
    "    model.add(Dense(43, activation='softmax', name='output'))  #there are 43 labels\n",
    "    return model"
   ]
  },
  {
   "cell_type": "code",
   "execution_count": 35,
   "metadata": {
    "colab": {
     "base_uri": "https://localhost:8080/",
     "height": 1000
    },
    "colab_type": "code",
    "id": "dTMJVW0oMZzt",
    "outputId": "521c3644-6cc0-4868-8cf7-9df12bfb3d3f"
   },
   "outputs": [
    {
     "name": "stdout",
     "output_type": "stream",
     "text": [
      "Train on 37248 samples, validate on 1961 samples\n",
      "Epoch 1/30\n",
      "37248/37248 [==============================] - 7s 197us/step - loss: 2.7844 - accuracy: 0.3098 - val_loss: 2.0293 - val_accuracy: 0.5074\n",
      "Epoch 2/30\n",
      "37248/37248 [==============================] - 7s 184us/step - loss: 1.7746 - accuracy: 0.5684 - val_loss: 1.4320 - val_accuracy: 0.6629\n",
      "Epoch 3/30\n",
      "37248/37248 [==============================] - 7s 176us/step - loss: 1.3372 - accuracy: 0.6886 - val_loss: 1.1041 - val_accuracy: 0.7542\n",
      "Epoch 4/30\n",
      "37248/37248 [==============================] - 7s 196us/step - loss: 1.0635 - accuracy: 0.7644 - val_loss: 0.9095 - val_accuracy: 0.8006\n",
      "Epoch 5/30\n",
      "37248/37248 [==============================] - 7s 188us/step - loss: 0.8781 - accuracy: 0.8134 - val_loss: 0.7624 - val_accuracy: 0.8327\n",
      "Epoch 6/30\n",
      "37248/37248 [==============================] - 7s 185us/step - loss: 0.7422 - accuracy: 0.8484 - val_loss: 0.6562 - val_accuracy: 0.8623\n",
      "Epoch 7/30\n",
      "37248/37248 [==============================] - 7s 182us/step - loss: 0.6386 - accuracy: 0.8772 - val_loss: 0.5780 - val_accuracy: 0.8812\n",
      "Epoch 8/30\n",
      "37248/37248 [==============================] - 7s 177us/step - loss: 0.5592 - accuracy: 0.8940 - val_loss: 0.4986 - val_accuracy: 0.8995\n",
      "Epoch 9/30\n",
      "37248/37248 [==============================] - 7s 177us/step - loss: 0.4943 - accuracy: 0.9091 - val_loss: 0.4388 - val_accuracy: 0.9113\n",
      "Epoch 10/30\n",
      "37248/37248 [==============================] - 7s 179us/step - loss: 0.4421 - accuracy: 0.9211 - val_loss: 0.4079 - val_accuracy: 0.9235\n",
      "Epoch 11/30\n",
      "37248/37248 [==============================] - 7s 187us/step - loss: 0.3975 - accuracy: 0.9325 - val_loss: 0.3596 - val_accuracy: 0.9352\n",
      "Epoch 12/30\n",
      "37248/37248 [==============================] - 7s 180us/step - loss: 0.3605 - accuracy: 0.9397 - val_loss: 0.3326 - val_accuracy: 0.9373\n",
      "Epoch 13/30\n",
      "37248/37248 [==============================] - 7s 177us/step - loss: 0.3298 - accuracy: 0.9452 - val_loss: 0.3085 - val_accuracy: 0.9429\n",
      "Epoch 14/30\n",
      "37248/37248 [==============================] - 7s 186us/step - loss: 0.3024 - accuracy: 0.9526 - val_loss: 0.2783 - val_accuracy: 0.9470\n",
      "Epoch 15/30\n",
      "37248/37248 [==============================] - 7s 184us/step - loss: 0.2782 - accuracy: 0.9558 - val_loss: 0.2625 - val_accuracy: 0.9521\n",
      "Epoch 16/30\n",
      "37248/37248 [==============================] - 7s 178us/step - loss: 0.2580 - accuracy: 0.9603 - val_loss: 0.2463 - val_accuracy: 0.9551\n",
      "Epoch 17/30\n",
      "37248/37248 [==============================] - 7s 182us/step - loss: 0.2396 - accuracy: 0.9634 - val_loss: 0.2313 - val_accuracy: 0.9577\n",
      "Epoch 18/30\n",
      "37248/37248 [==============================] - 7s 180us/step - loss: 0.2253 - accuracy: 0.9660 - val_loss: 0.2156 - val_accuracy: 0.9628\n",
      "Epoch 19/30\n",
      "37248/37248 [==============================] - 7s 177us/step - loss: 0.2089 - accuracy: 0.9700 - val_loss: 0.2027 - val_accuracy: 0.9607\n",
      "Epoch 20/30\n",
      "37248/37248 [==============================] - 7s 184us/step - loss: 0.1961 - accuracy: 0.9720 - val_loss: 0.2001 - val_accuracy: 0.9648\n",
      "Epoch 21/30\n",
      "37248/37248 [==============================] - 7s 182us/step - loss: 0.1855 - accuracy: 0.9742 - val_loss: 0.1845 - val_accuracy: 0.9674\n",
      "Epoch 22/30\n",
      "37248/37248 [==============================] - 7s 182us/step - loss: 0.1736 - accuracy: 0.9756 - val_loss: 0.1810 - val_accuracy: 0.9709\n",
      "Epoch 23/30\n",
      "37248/37248 [==============================] - 7s 184us/step - loss: 0.1654 - accuracy: 0.9774 - val_loss: 0.1684 - val_accuracy: 0.9714\n",
      "Epoch 24/30\n",
      "37248/37248 [==============================] - 7s 180us/step - loss: 0.1562 - accuracy: 0.9793 - val_loss: 0.1585 - val_accuracy: 0.9704\n",
      "Epoch 25/30\n",
      "37248/37248 [==============================] - 7s 175us/step - loss: 0.1480 - accuracy: 0.9807 - val_loss: 0.1645 - val_accuracy: 0.9730\n",
      "Epoch 26/30\n",
      "37248/37248 [==============================] - 7s 181us/step - loss: 0.1397 - accuracy: 0.9825 - val_loss: 0.1555 - val_accuracy: 0.9740\n",
      "Epoch 27/30\n",
      "37248/37248 [==============================] - 7s 182us/step - loss: 0.1333 - accuracy: 0.9823 - val_loss: 0.1473 - val_accuracy: 0.9750\n",
      "Epoch 28/30\n",
      "37248/37248 [==============================] - 7s 183us/step - loss: 0.1296 - accuracy: 0.9832 - val_loss: 0.1378 - val_accuracy: 0.9750\n",
      "Epoch 29/30\n",
      "37248/37248 [==============================] - 7s 186us/step - loss: 0.1228 - accuracy: 0.9850 - val_loss: 0.1364 - val_accuracy: 0.9750\n",
      "Epoch 30/30\n",
      "37248/37248 [==============================] - 7s 181us/step - loss: 0.1175 - accuracy: 0.9855 - val_loss: 0.1280 - val_accuracy: 0.9771\n",
      "1961/1961 [==============================] - 0s 98us/step\n",
      "Train on 37248 samples, validate on 1961 samples\n",
      "Epoch 1/30\n",
      "37248/37248 [==============================] - 7s 193us/step - loss: 0.1238 - accuracy: 0.9800 - val_loss: 0.1135 - val_accuracy: 0.9816\n",
      "Epoch 2/30\n",
      "37248/37248 [==============================] - 7s 180us/step - loss: 0.0849 - accuracy: 0.9880 - val_loss: 0.0893 - val_accuracy: 0.9837\n",
      "Epoch 3/30\n",
      "37248/37248 [==============================] - 7s 190us/step - loss: 0.0628 - accuracy: 0.9913 - val_loss: 0.0901 - val_accuracy: 0.9857\n",
      "Epoch 4/30\n",
      "37248/37248 [==============================] - 7s 187us/step - loss: 0.0494 - accuracy: 0.9942 - val_loss: 0.0656 - val_accuracy: 0.9893\n",
      "Epoch 5/30\n",
      "37248/37248 [==============================] - 7s 180us/step - loss: 0.0400 - accuracy: 0.9957 - val_loss: 0.0613 - val_accuracy: 0.9898\n",
      "Epoch 6/30\n",
      "37248/37248 [==============================] - 7s 179us/step - loss: 0.0334 - accuracy: 0.9966 - val_loss: 0.0539 - val_accuracy: 0.9893\n",
      "Epoch 7/30\n",
      "37248/37248 [==============================] - 7s 182us/step - loss: 0.0273 - accuracy: 0.9978 - val_loss: 0.0478 - val_accuracy: 0.9934\n",
      "Epoch 8/30\n",
      "37248/37248 [==============================] - 7s 182us/step - loss: 0.0243 - accuracy: 0.9981 - val_loss: 0.0485 - val_accuracy: 0.9913\n",
      "Epoch 9/30\n",
      "37248/37248 [==============================] - 7s 187us/step - loss: 0.0219 - accuracy: 0.9980 - val_loss: 0.0448 - val_accuracy: 0.9913\n",
      "Epoch 10/30\n",
      "37248/37248 [==============================] - 7s 191us/step - loss: 0.0188 - accuracy: 0.9987 - val_loss: 0.0424 - val_accuracy: 0.9934\n",
      "Epoch 11/30\n",
      "37248/37248 [==============================] - 7s 193us/step - loss: 0.0165 - accuracy: 0.9990 - val_loss: 0.0460 - val_accuracy: 0.9913\n",
      "Epoch 12/30\n",
      "37248/37248 [==============================] - 7s 187us/step - loss: 0.0150 - accuracy: 0.9989 - val_loss: 0.0393 - val_accuracy: 0.9944\n",
      "Epoch 13/30\n",
      "37248/37248 [==============================] - 7s 187us/step - loss: 0.0131 - accuracy: 0.9994 - val_loss: 0.0392 - val_accuracy: 0.9934\n",
      "Epoch 14/30\n",
      "37248/37248 [==============================] - 7s 182us/step - loss: 0.0116 - accuracy: 0.9995 - val_loss: 0.0373 - val_accuracy: 0.9949\n",
      "Epoch 15/30\n",
      "37248/37248 [==============================] - 7s 193us/step - loss: 0.0113 - accuracy: 0.9995 - val_loss: 0.0379 - val_accuracy: 0.9929\n",
      "Epoch 16/30\n",
      "37248/37248 [==============================] - 7s 185us/step - loss: 0.0102 - accuracy: 0.9997 - val_loss: 0.0367 - val_accuracy: 0.9934\n",
      "Epoch 17/30\n",
      "37248/37248 [==============================] - 7s 189us/step - loss: 0.0100 - accuracy: 0.9995 - val_loss: 0.0353 - val_accuracy: 0.9939\n",
      "Epoch 18/30\n",
      "37248/37248 [==============================] - 7s 186us/step - loss: 0.0088 - accuracy: 0.9995 - val_loss: 0.0353 - val_accuracy: 0.9949\n",
      "Epoch 19/30\n",
      "37248/37248 [==============================] - 7s 195us/step - loss: 0.0082 - accuracy: 0.9997 - val_loss: 0.0360 - val_accuracy: 0.9934\n",
      "Epoch 20/30\n",
      "37248/37248 [==============================] - 7s 186us/step - loss: 0.0076 - accuracy: 0.9997 - val_loss: 0.0338 - val_accuracy: 0.9954\n",
      "Epoch 21/30\n",
      "37248/37248 [==============================] - 7s 183us/step - loss: 0.0073 - accuracy: 0.9998 - val_loss: 0.0356 - val_accuracy: 0.9934\n",
      "Epoch 22/30\n",
      "37248/37248 [==============================] - 7s 188us/step - loss: 0.0067 - accuracy: 0.9998 - val_loss: 0.0318 - val_accuracy: 0.9944\n",
      "Epoch 23/30\n",
      "37248/37248 [==============================] - 7s 188us/step - loss: 0.0064 - accuracy: 0.9998 - val_loss: 0.0338 - val_accuracy: 0.9934\n",
      "Epoch 24/30\n",
      "37248/37248 [==============================] - 7s 189us/step - loss: 0.0062 - accuracy: 0.9998 - val_loss: 0.0323 - val_accuracy: 0.9944\n",
      "Epoch 25/30\n",
      "37248/37248 [==============================] - 7s 187us/step - loss: 0.0055 - accuracy: 0.9999 - val_loss: 0.0314 - val_accuracy: 0.9944\n",
      "Epoch 26/30\n",
      "37248/37248 [==============================] - 7s 194us/step - loss: 0.0055 - accuracy: 0.9999 - val_loss: 0.0320 - val_accuracy: 0.9959\n",
      "Epoch 27/30\n",
      "37248/37248 [==============================] - 7s 189us/step - loss: 0.0050 - accuracy: 0.9999 - val_loss: 0.0312 - val_accuracy: 0.9959\n",
      "Epoch 28/30\n",
      "37248/37248 [==============================] - 7s 187us/step - loss: 0.0053 - accuracy: 0.9997 - val_loss: 0.0328 - val_accuracy: 0.9949\n",
      "Epoch 29/30\n",
      "37248/37248 [==============================] - 7s 178us/step - loss: 0.0051 - accuracy: 0.9998 - val_loss: 0.0374 - val_accuracy: 0.9934\n",
      "Epoch 30/30\n",
      "37248/37248 [==============================] - 7s 184us/step - loss: 0.0049 - accuracy: 0.9998 - val_loss: 0.0307 - val_accuracy: 0.9954\n",
      "1961/1961 [==============================] - 0s 111us/step\n",
      "Train on 37248 samples, validate on 1961 samples\n",
      "Epoch 1/30\n",
      "37248/37248 [==============================] - 7s 195us/step - loss: 0.1988 - accuracy: 0.9452 - val_loss: 0.0601 - val_accuracy: 0.9867\n",
      "Epoch 2/30\n",
      "37248/37248 [==============================] - 7s 187us/step - loss: 0.0321 - accuracy: 0.9919 - val_loss: 0.0443 - val_accuracy: 0.9908\n",
      "Epoch 3/30\n",
      "37248/37248 [==============================] - 7s 182us/step - loss: 0.0148 - accuracy: 0.9969 - val_loss: 0.0371 - val_accuracy: 0.9913\n",
      "Epoch 4/30\n",
      "37248/37248 [==============================] - 7s 183us/step - loss: 0.0056 - accuracy: 0.9994 - val_loss: 0.0334 - val_accuracy: 0.9918\n",
      "Epoch 5/30\n",
      "37248/37248 [==============================] - 7s 187us/step - loss: 0.0043 - accuracy: 0.9994 - val_loss: 0.0303 - val_accuracy: 0.9939\n",
      "Epoch 6/30\n",
      "37248/37248 [==============================] - 7s 193us/step - loss: 0.0024 - accuracy: 0.9998 - val_loss: 0.0314 - val_accuracy: 0.9929\n",
      "Epoch 7/30\n",
      "37248/37248 [==============================] - 7s 182us/step - loss: 0.0015 - accuracy: 1.0000 - val_loss: 0.0291 - val_accuracy: 0.9949\n",
      "Epoch 8/30\n",
      "37248/37248 [==============================] - 7s 184us/step - loss: 0.0013 - accuracy: 0.9999 - val_loss: 0.0284 - val_accuracy: 0.9924\n",
      "Epoch 9/30\n",
      "37248/37248 [==============================] - 7s 178us/step - loss: 0.0012 - accuracy: 1.0000 - val_loss: 0.0272 - val_accuracy: 0.9939\n",
      "Epoch 10/30\n",
      "37248/37248 [==============================] - 7s 183us/step - loss: 0.0010 - accuracy: 0.9999 - val_loss: 0.0292 - val_accuracy: 0.9934\n",
      "Epoch 11/30\n",
      "37248/37248 [==============================] - 7s 182us/step - loss: 8.4769e-04 - accuracy: 1.0000 - val_loss: 0.0295 - val_accuracy: 0.9934\n",
      "Epoch 12/30\n",
      "37248/37248 [==============================] - 7s 186us/step - loss: 7.2795e-04 - accuracy: 1.0000 - val_loss: 0.0281 - val_accuracy: 0.9934\n",
      "Epoch 13/30\n",
      "37248/37248 [==============================] - 7s 180us/step - loss: 6.4562e-04 - accuracy: 1.0000 - val_loss: 0.0281 - val_accuracy: 0.9934\n",
      "Epoch 14/30\n",
      "37248/37248 [==============================] - 7s 183us/step - loss: 4.8958e-04 - accuracy: 1.0000 - val_loss: 0.0281 - val_accuracy: 0.9939\n",
      "Epoch 15/30\n",
      "37248/37248 [==============================] - 7s 181us/step - loss: 4.7628e-04 - accuracy: 1.0000 - val_loss: 0.0293 - val_accuracy: 0.9939\n",
      "Epoch 16/30\n",
      "37248/37248 [==============================] - 7s 179us/step - loss: 4.7445e-04 - accuracy: 1.0000 - val_loss: 0.0293 - val_accuracy: 0.9934\n",
      "Epoch 17/30\n",
      "37248/37248 [==============================] - 7s 184us/step - loss: 4.0057e-04 - accuracy: 1.0000 - val_loss: 0.0287 - val_accuracy: 0.9939\n",
      "Epoch 18/30\n",
      "37248/37248 [==============================] - 7s 186us/step - loss: 3.8527e-04 - accuracy: 1.0000 - val_loss: 0.0295 - val_accuracy: 0.9939\n",
      "Epoch 19/30\n",
      "37248/37248 [==============================] - 7s 185us/step - loss: 3.6614e-04 - accuracy: 1.0000 - val_loss: 0.0275 - val_accuracy: 0.9944\n",
      "Epoch 20/30\n",
      "37248/37248 [==============================] - 7s 186us/step - loss: 3.8019e-04 - accuracy: 1.0000 - val_loss: 0.0280 - val_accuracy: 0.9934\n",
      "Epoch 21/30\n",
      "37248/37248 [==============================] - 7s 180us/step - loss: 4.5957e-04 - accuracy: 1.0000 - val_loss: 0.0289 - val_accuracy: 0.9939\n",
      "Epoch 22/30\n",
      "37248/37248 [==============================] - 7s 179us/step - loss: 3.3091e-04 - accuracy: 1.0000 - val_loss: 0.0290 - val_accuracy: 0.9934\n",
      "Epoch 23/30\n",
      "37248/37248 [==============================] - 7s 186us/step - loss: 3.1418e-04 - accuracy: 1.0000 - val_loss: 0.0299 - val_accuracy: 0.9934\n",
      "Epoch 24/30\n",
      "37248/37248 [==============================] - 7s 184us/step - loss: 2.8251e-04 - accuracy: 1.0000 - val_loss: 0.0282 - val_accuracy: 0.9939\n",
      "Epoch 25/30\n",
      "37248/37248 [==============================] - 7s 181us/step - loss: 2.7246e-04 - accuracy: 1.0000 - val_loss: 0.0275 - val_accuracy: 0.9934\n",
      "Epoch 26/30\n",
      "37248/37248 [==============================] - 7s 179us/step - loss: 3.0119e-04 - accuracy: 1.0000 - val_loss: 0.0298 - val_accuracy: 0.9934\n",
      "Epoch 27/30\n",
      "37248/37248 [==============================] - 7s 186us/step - loss: 2.4617e-04 - accuracy: 1.0000 - val_loss: 0.0297 - val_accuracy: 0.9934\n",
      "Epoch 28/30\n",
      "37248/37248 [==============================] - 7s 187us/step - loss: 2.5247e-04 - accuracy: 1.0000 - val_loss: 0.0298 - val_accuracy: 0.9939\n",
      "Epoch 29/30\n",
      "37248/37248 [==============================] - 7s 188us/step - loss: 2.5880e-04 - accuracy: 1.0000 - val_loss: 0.0281 - val_accuracy: 0.9934\n",
      "Epoch 30/30\n",
      "37248/37248 [==============================] - 7s 185us/step - loss: 2.3741e-04 - accuracy: 1.0000 - val_loss: 0.0279 - val_accuracy: 0.9939\n",
      "1961/1961 [==============================] - 0s 93us/step\n",
      "Train on 37248 samples, validate on 1961 samples\n",
      "Epoch 1/30\n",
      "37248/37248 [==============================] - 7s 193us/step - loss: 0.6844 - accuracy: 0.8062 - val_loss: 0.9122 - val_accuracy: 0.7624\n",
      "Epoch 2/30\n",
      "37248/37248 [==============================] - 7s 186us/step - loss: 0.2575 - accuracy: 0.9202 - val_loss: 0.1160 - val_accuracy: 0.9679\n",
      "Epoch 3/30\n",
      "37248/37248 [==============================] - 7s 186us/step - loss: 0.0826 - accuracy: 0.9751 - val_loss: 0.0930 - val_accuracy: 0.9745\n",
      "Epoch 4/30\n",
      "37248/37248 [==============================] - 7s 196us/step - loss: 0.0567 - accuracy: 0.9823 - val_loss: 0.0970 - val_accuracy: 0.9740\n",
      "Epoch 5/30\n",
      "37248/37248 [==============================] - 7s 188us/step - loss: 0.0370 - accuracy: 0.9888 - val_loss: 0.0854 - val_accuracy: 0.9791\n",
      "Epoch 6/30\n",
      "37248/37248 [==============================] - 7s 188us/step - loss: 0.0254 - accuracy: 0.9918 - val_loss: 0.1079 - val_accuracy: 0.9760\n",
      "Epoch 7/30\n",
      "37248/37248 [==============================] - 7s 183us/step - loss: 0.0211 - accuracy: 0.9933 - val_loss: 0.0741 - val_accuracy: 0.9837\n",
      "Epoch 8/30\n",
      "37248/37248 [==============================] - 7s 182us/step - loss: 0.0237 - accuracy: 0.9925 - val_loss: 0.0795 - val_accuracy: 0.9842\n",
      "Epoch 9/30\n",
      "37248/37248 [==============================] - 7s 190us/step - loss: 0.0199 - accuracy: 0.9937 - val_loss: 0.0896 - val_accuracy: 0.9776\n",
      "Epoch 10/30\n",
      "37248/37248 [==============================] - 7s 197us/step - loss: 0.0150 - accuracy: 0.9951 - val_loss: 0.0548 - val_accuracy: 0.9888\n",
      "Epoch 11/30\n",
      "37248/37248 [==============================] - 7s 182us/step - loss: 0.0146 - accuracy: 0.9950 - val_loss: 0.0890 - val_accuracy: 0.9781\n",
      "Epoch 12/30\n",
      "37248/37248 [==============================] - 7s 183us/step - loss: 0.0149 - accuracy: 0.9957 - val_loss: 0.0579 - val_accuracy: 0.9862\n",
      "Epoch 13/30\n",
      "37248/37248 [==============================] - 7s 188us/step - loss: 0.0138 - accuracy: 0.9952 - val_loss: 0.0497 - val_accuracy: 0.9913\n",
      "Epoch 14/30\n",
      "37248/37248 [==============================] - 7s 184us/step - loss: 0.0115 - accuracy: 0.9965 - val_loss: 0.0453 - val_accuracy: 0.9903\n",
      "Epoch 15/30\n",
      "37248/37248 [==============================] - 7s 187us/step - loss: 0.0083 - accuracy: 0.9973 - val_loss: 0.0633 - val_accuracy: 0.9867\n",
      "Epoch 16/30\n",
      "37248/37248 [==============================] - 7s 181us/step - loss: 0.0083 - accuracy: 0.9973 - val_loss: 0.0748 - val_accuracy: 0.9867\n",
      "Epoch 17/30\n",
      "37248/37248 [==============================] - 7s 192us/step - loss: 0.0150 - accuracy: 0.9950 - val_loss: 0.0545 - val_accuracy: 0.9878\n",
      "Epoch 18/30\n",
      "37248/37248 [==============================] - 7s 187us/step - loss: 0.0118 - accuracy: 0.9962 - val_loss: 0.0862 - val_accuracy: 0.9867\n",
      "Epoch 19/30\n",
      "37248/37248 [==============================] - 7s 184us/step - loss: 0.0173 - accuracy: 0.9946 - val_loss: 0.0869 - val_accuracy: 0.9842\n",
      "Epoch 20/30\n",
      "37248/37248 [==============================] - 7s 178us/step - loss: 0.0178 - accuracy: 0.9941 - val_loss: 0.1212 - val_accuracy: 0.9730\n",
      "Epoch 21/30\n",
      "37248/37248 [==============================] - 7s 181us/step - loss: 0.0298 - accuracy: 0.9907 - val_loss: 0.1179 - val_accuracy: 0.9750\n",
      "Epoch 22/30\n",
      "37248/37248 [==============================] - 7s 192us/step - loss: 0.0417 - accuracy: 0.9875 - val_loss: 0.0686 - val_accuracy: 0.9847\n",
      "Epoch 23/30\n",
      "37248/37248 [==============================] - 7s 184us/step - loss: 0.0177 - accuracy: 0.9936 - val_loss: 0.0668 - val_accuracy: 0.9847\n",
      "Epoch 24/30\n",
      "37248/37248 [==============================] - 7s 182us/step - loss: 0.0219 - accuracy: 0.9928 - val_loss: 0.1180 - val_accuracy: 0.9750\n",
      "Epoch 25/30\n",
      "37248/37248 [==============================] - 7s 186us/step - loss: 0.0288 - accuracy: 0.9901 - val_loss: 0.0980 - val_accuracy: 0.9806\n",
      "Epoch 26/30\n",
      "37248/37248 [==============================] - 7s 186us/step - loss: 0.0252 - accuracy: 0.9918 - val_loss: 0.1056 - val_accuracy: 0.9776\n",
      "Epoch 27/30\n",
      "37248/37248 [==============================] - 7s 184us/step - loss: 0.0262 - accuracy: 0.9910 - val_loss: 0.0872 - val_accuracy: 0.9781\n",
      "Epoch 28/30\n",
      "37248/37248 [==============================] - 7s 183us/step - loss: 0.0221 - accuracy: 0.9926 - val_loss: 0.0912 - val_accuracy: 0.9806\n",
      "Epoch 29/30\n",
      "37248/37248 [==============================] - 7s 182us/step - loss: 0.0186 - accuracy: 0.9938 - val_loss: 0.1092 - val_accuracy: 0.9801\n",
      "Epoch 30/30\n",
      "37248/37248 [==============================] - 7s 187us/step - loss: 0.0212 - accuracy: 0.9930 - val_loss: 0.1247 - val_accuracy: 0.9745\n",
      "1961/1961 [==============================] - 0s 95us/step\n",
      "Train on 37248 samples, validate on 1961 samples\n",
      "Epoch 1/30\n",
      "37248/37248 [==============================] - 7s 198us/step - loss: 0.7302 - accuracy: 0.7818 - val_loss: 1.5171 - val_accuracy: 0.5824\n",
      "Epoch 2/30\n",
      "37248/37248 [==============================] - 7s 191us/step - loss: 0.8705 - accuracy: 0.7317 - val_loss: 1.0245 - val_accuracy: 0.6996\n",
      "Epoch 3/30\n",
      "37248/37248 [==============================] - 7s 189us/step - loss: 1.1716 - accuracy: 0.6457 - val_loss: 1.3956 - val_accuracy: 0.5686\n",
      "Epoch 4/30\n",
      "37248/37248 [==============================] - 7s 180us/step - loss: 1.2665 - accuracy: 0.6139 - val_loss: 3.2434 - val_accuracy: 0.2565\n",
      "Epoch 5/30\n",
      "37248/37248 [==============================] - 7s 177us/step - loss: 1.6780 - accuracy: 0.5135 - val_loss: 1.9748 - val_accuracy: 0.4263\n",
      "Epoch 6/30\n",
      "37248/37248 [==============================] - 7s 188us/step - loss: 1.4553 - accuracy: 0.5597 - val_loss: 2.1831 - val_accuracy: 0.4141\n",
      "Epoch 7/30\n",
      "37248/37248 [==============================] - 7s 194us/step - loss: 1.5352 - accuracy: 0.5456 - val_loss: 2.2062 - val_accuracy: 0.3549\n",
      "Epoch 8/30\n",
      "37248/37248 [==============================] - 7s 187us/step - loss: 1.6464 - accuracy: 0.5169 - val_loss: 2.3569 - val_accuracy: 0.3559\n",
      "Epoch 9/30\n",
      "37248/37248 [==============================] - 7s 191us/step - loss: 2.0916 - accuracy: 0.4115 - val_loss: 2.1002 - val_accuracy: 0.4018\n",
      "Epoch 10/30\n",
      "37248/37248 [==============================] - 7s 189us/step - loss: 2.0481 - accuracy: 0.4121 - val_loss: 1.4198 - val_accuracy: 0.5339\n",
      "Epoch 11/30\n",
      "37248/37248 [==============================] - 7s 183us/step - loss: 1.9863 - accuracy: 0.4227 - val_loss: 1.3728 - val_accuracy: 0.5890\n",
      "Epoch 12/30\n",
      "37248/37248 [==============================] - 7s 190us/step - loss: 1.6176 - accuracy: 0.5145 - val_loss: 2.2060 - val_accuracy: 0.3870\n",
      "Epoch 13/30\n",
      "37248/37248 [==============================] - 7s 189us/step - loss: 1.4668 - accuracy: 0.5497 - val_loss: 1.6702 - val_accuracy: 0.5038\n",
      "Epoch 14/30\n",
      "37248/37248 [==============================] - 7s 189us/step - loss: 1.6752 - accuracy: 0.5020 - val_loss: 1.9353 - val_accuracy: 0.4513\n",
      "Epoch 15/30\n",
      "37248/37248 [==============================] - 7s 186us/step - loss: 2.2324 - accuracy: 0.3697 - val_loss: 2.0973 - val_accuracy: 0.3998\n",
      "Epoch 16/30\n",
      "37248/37248 [==============================] - 7s 179us/step - loss: 1.7798 - accuracy: 0.4739 - val_loss: 2.5750 - val_accuracy: 0.3111\n",
      "Epoch 17/30\n",
      "37248/37248 [==============================] - 7s 183us/step - loss: 2.3582 - accuracy: 0.3443 - val_loss: 2.4757 - val_accuracy: 0.3157\n",
      "Epoch 18/30\n",
      "37248/37248 [==============================] - 7s 195us/step - loss: 1.5369 - accuracy: 0.5325 - val_loss: 1.2390 - val_accuracy: 0.6012\n",
      "Epoch 19/30\n",
      "37248/37248 [==============================] - 7s 195us/step - loss: 1.7477 - accuracy: 0.4856 - val_loss: 1.4174 - val_accuracy: 0.5681\n",
      "Epoch 20/30\n",
      "37248/37248 [==============================] - 7s 184us/step - loss: 1.7534 - accuracy: 0.4830 - val_loss: 1.7215 - val_accuracy: 0.4885\n",
      "Epoch 21/30\n",
      "37248/37248 [==============================] - 7s 181us/step - loss: 2.1482 - accuracy: 0.3879 - val_loss: 2.0801 - val_accuracy: 0.4161\n",
      "Epoch 22/30\n",
      "37248/37248 [==============================] - 7s 184us/step - loss: 2.0502 - accuracy: 0.4111 - val_loss: 1.7235 - val_accuracy: 0.4788\n",
      "Epoch 23/30\n",
      "37248/37248 [==============================] - 7s 196us/step - loss: 1.9956 - accuracy: 0.4222 - val_loss: 2.4023 - val_accuracy: 0.3182\n",
      "Epoch 24/30\n",
      "37248/37248 [==============================] - 7s 189us/step - loss: 2.2179 - accuracy: 0.3780 - val_loss: 2.0199 - val_accuracy: 0.4197\n",
      "Epoch 25/30\n",
      "37248/37248 [==============================] - 7s 188us/step - loss: 2.4910 - accuracy: 0.3087 - val_loss: 2.8261 - val_accuracy: 0.2279\n",
      "Epoch 26/30\n",
      "37248/37248 [==============================] - 7s 187us/step - loss: 2.1139 - accuracy: 0.3899 - val_loss: 1.5072 - val_accuracy: 0.5309\n",
      "Epoch 27/30\n",
      "37248/37248 [==============================] - 7s 195us/step - loss: 2.4570 - accuracy: 0.3177 - val_loss: 2.2403 - val_accuracy: 0.3610\n",
      "Epoch 28/30\n",
      "37248/37248 [==============================] - 7s 183us/step - loss: 2.0884 - accuracy: 0.3971 - val_loss: 2.0597 - val_accuracy: 0.4074\n",
      "Epoch 29/30\n",
      "37248/37248 [==============================] - 7s 184us/step - loss: 2.5049 - accuracy: 0.3014 - val_loss: 1.9939 - val_accuracy: 0.4233\n",
      "Epoch 30/30\n",
      "37248/37248 [==============================] - 7s 186us/step - loss: 2.0043 - accuracy: 0.4200 - val_loss: 2.1374 - val_accuracy: 0.3845\n",
      "1961/1961 [==============================] - 0s 106us/step\n",
      "Train on 37248 samples, validate on 1961 samples\n",
      "Epoch 1/30\n",
      "37248/37248 [==============================] - 7s 192us/step - loss: nan - accuracy: 0.0070 - val_loss: nan - val_accuracy: 0.0082\n",
      "Epoch 2/30\n",
      "37248/37248 [==============================] - 7s 188us/step - loss: nan - accuracy: 0.0052 - val_loss: nan - val_accuracy: 0.0082\n",
      "Epoch 3/30\n",
      "37248/37248 [==============================] - 7s 185us/step - loss: nan - accuracy: 0.0052 - val_loss: nan - val_accuracy: 0.0082\n",
      "Epoch 4/30\n",
      "37248/37248 [==============================] - 7s 184us/step - loss: nan - accuracy: 0.0052 - val_loss: nan - val_accuracy: 0.0082\n",
      "Epoch 5/30\n",
      "37248/37248 [==============================] - 7s 197us/step - loss: nan - accuracy: 0.0052 - val_loss: nan - val_accuracy: 0.0082\n",
      "Epoch 6/30\n",
      "37248/37248 [==============================] - 7s 193us/step - loss: nan - accuracy: 0.0052 - val_loss: nan - val_accuracy: 0.0082\n",
      "Epoch 7/30\n",
      "37248/37248 [==============================] - 7s 187us/step - loss: nan - accuracy: 0.0052 - val_loss: nan - val_accuracy: 0.0082\n",
      "Epoch 8/30\n",
      "37248/37248 [==============================] - 7s 188us/step - loss: nan - accuracy: 0.0052 - val_loss: nan - val_accuracy: 0.0082\n",
      "Epoch 9/30\n",
      "37248/37248 [==============================] - 7s 198us/step - loss: nan - accuracy: 0.0052 - val_loss: nan - val_accuracy: 0.0082\n",
      "Epoch 10/30\n",
      "37248/37248 [==============================] - 7s 189us/step - loss: nan - accuracy: 0.0052 - val_loss: nan - val_accuracy: 0.0082\n",
      "Epoch 11/30\n",
      "37248/37248 [==============================] - 7s 180us/step - loss: nan - accuracy: 0.0052 - val_loss: nan - val_accuracy: 0.0082\n",
      "Epoch 12/30\n",
      "37248/37248 [==============================] - 7s 182us/step - loss: nan - accuracy: 0.0052 - val_loss: nan - val_accuracy: 0.0082\n",
      "Epoch 13/30\n",
      "37248/37248 [==============================] - 7s 189us/step - loss: nan - accuracy: 0.0052 - val_loss: nan - val_accuracy: 0.0082\n",
      "Epoch 14/30\n",
      "37248/37248 [==============================] - 7s 184us/step - loss: nan - accuracy: 0.0052 - val_loss: nan - val_accuracy: 0.0082\n",
      "Epoch 15/30\n",
      "37248/37248 [==============================] - 7s 183us/step - loss: nan - accuracy: 0.0052 - val_loss: nan - val_accuracy: 0.0082\n",
      "Epoch 16/30\n",
      "37248/37248 [==============================] - 7s 196us/step - loss: nan - accuracy: 0.0052 - val_loss: nan - val_accuracy: 0.0082\n",
      "Epoch 17/30\n",
      "37248/37248 [==============================] - 7s 193us/step - loss: nan - accuracy: 0.0052 - val_loss: nan - val_accuracy: 0.0082\n",
      "Epoch 18/30\n",
      "37248/37248 [==============================] - 7s 190us/step - loss: nan - accuracy: 0.0052 - val_loss: nan - val_accuracy: 0.0082\n",
      "Epoch 19/30\n",
      "37248/37248 [==============================] - 7s 187us/step - loss: nan - accuracy: 0.0052 - val_loss: nan - val_accuracy: 0.0082\n",
      "Epoch 20/30\n",
      "37248/37248 [==============================] - 7s 186us/step - loss: nan - accuracy: 0.0052 - val_loss: nan - val_accuracy: 0.0082\n",
      "Epoch 21/30\n",
      "37248/37248 [==============================] - 7s 184us/step - loss: nan - accuracy: 0.0052 - val_loss: nan - val_accuracy: 0.0082\n",
      "Epoch 22/30\n",
      "37248/37248 [==============================] - 7s 182us/step - loss: nan - accuracy: 0.0052 - val_loss: nan - val_accuracy: 0.0082\n",
      "Epoch 23/30\n",
      "37248/37248 [==============================] - 7s 188us/step - loss: nan - accuracy: 0.0052 - val_loss: nan - val_accuracy: 0.0082\n",
      "Epoch 24/30\n",
      "37248/37248 [==============================] - 7s 187us/step - loss: nan - accuracy: 0.0052 - val_loss: nan - val_accuracy: 0.0082\n",
      "Epoch 25/30\n",
      "37248/37248 [==============================] - 7s 179us/step - loss: nan - accuracy: 0.0052 - val_loss: nan - val_accuracy: 0.0082\n",
      "Epoch 26/30\n",
      "37248/37248 [==============================] - 7s 179us/step - loss: nan - accuracy: 0.0052 - val_loss: nan - val_accuracy: 0.0082\n",
      "Epoch 27/30\n",
      "37248/37248 [==============================] - 7s 192us/step - loss: nan - accuracy: 0.0052 - val_loss: nan - val_accuracy: 0.0082\n",
      "Epoch 28/30\n",
      "37248/37248 [==============================] - 7s 187us/step - loss: nan - accuracy: 0.0052 - val_loss: nan - val_accuracy: 0.0082\n",
      "Epoch 29/30\n",
      "37248/37248 [==============================] - 7s 190us/step - loss: nan - accuracy: 0.0052 - val_loss: nan - val_accuracy: 0.0082\n",
      "Epoch 30/30\n",
      "37248/37248 [==============================] - 7s 184us/step - loss: nan - accuracy: 0.0052 - val_loss: nan - val_accuracy: 0.0082\n",
      "1961/1961 [==============================] - 0s 109us/step\n"
     ]
    }
   ],
   "source": [
    "#increment learning rate with sigmoid function\n",
    "model = build_model(activation = 'sigmoid', batch_normalization = True)\n",
    "learn = [0.001, 0.01, 0.10, 0.50, 1, 5]\n",
    "res_sig =[]\n",
    "\n",
    "for i in learn:\n",
    "    opt = tf.keras.optimizers.SGD(learning_rate = i, momentum = 0.0, nesterov=False)\n",
    "    model.compile(loss = 'categorical_crossentropy', optimizer = opt, metrics = ['accuracy'])\n",
    "    model.fit(x_tr, y_tr, epochs = 30, validation_data= (x_tst, y_tst))\n",
    "    loss, accuracy = model.evaluate(x_tst, y_tst)\n",
    "    res_sig.append(accuracy)\n",
    "\n",
    "#model.summary()"
   ]
  },
  {
   "cell_type": "code",
   "execution_count": 36,
   "metadata": {
    "colab": {
     "base_uri": "https://localhost:8080/",
     "height": 1000
    },
    "colab_type": "code",
    "id": "A_VoEctKH0qs",
    "outputId": "84abe8a8-cd1d-4eba-b68c-aee09c1be97c"
   },
   "outputs": [
    {
     "name": "stdout",
     "output_type": "stream",
     "text": [
      "Train on 37248 samples, validate on 1961 samples\n",
      "Epoch 1/30\n",
      "37248/37248 [==============================] - 7s 197us/step - loss: 2.8671 - accuracy: 0.2865 - val_loss: 2.1547 - val_accuracy: 0.4916\n",
      "Epoch 2/30\n",
      "37248/37248 [==============================] - 7s 194us/step - loss: 1.8968 - accuracy: 0.5402 - val_loss: 1.5885 - val_accuracy: 0.6242\n",
      "Epoch 3/30\n",
      "37248/37248 [==============================] - 7s 191us/step - loss: 1.4717 - accuracy: 0.6536 - val_loss: 1.2575 - val_accuracy: 0.6986\n",
      "Epoch 4/30\n",
      "37248/37248 [==============================] - 7s 184us/step - loss: 1.1907 - accuracy: 0.7335 - val_loss: 1.0420 - val_accuracy: 0.7649\n",
      "Epoch 5/30\n",
      "37248/37248 [==============================] - 7s 185us/step - loss: 0.9934 - accuracy: 0.7873 - val_loss: 0.8727 - val_accuracy: 0.8062\n",
      "Epoch 6/30\n",
      "37248/37248 [==============================] - 7s 191us/step - loss: 0.8433 - accuracy: 0.8257 - val_loss: 0.7488 - val_accuracy: 0.8465\n",
      "Epoch 7/30\n",
      "37248/37248 [==============================] - 7s 191us/step - loss: 0.7286 - accuracy: 0.8549 - val_loss: 0.6634 - val_accuracy: 0.8705\n",
      "Epoch 8/30\n",
      "37248/37248 [==============================] - 7s 184us/step - loss: 0.6341 - accuracy: 0.8787 - val_loss: 0.5972 - val_accuracy: 0.8868\n",
      "Epoch 9/30\n",
      "37248/37248 [==============================] - 7s 182us/step - loss: 0.5619 - accuracy: 0.8937 - val_loss: 0.5010 - val_accuracy: 0.9021\n",
      "Epoch 10/30\n",
      "37248/37248 [==============================] - 7s 184us/step - loss: 0.4998 - accuracy: 0.9090 - val_loss: 0.4614 - val_accuracy: 0.9174\n",
      "Epoch 11/30\n",
      "37248/37248 [==============================] - 7s 184us/step - loss: 0.4483 - accuracy: 0.9192 - val_loss: 0.4140 - val_accuracy: 0.9250\n",
      "Epoch 12/30\n",
      "37248/37248 [==============================] - 7s 189us/step - loss: 0.4058 - accuracy: 0.9304 - val_loss: 0.3844 - val_accuracy: 0.9312\n",
      "Epoch 13/30\n",
      "37248/37248 [==============================] - 7s 180us/step - loss: 0.3693 - accuracy: 0.9378 - val_loss: 0.3496 - val_accuracy: 0.9352\n",
      "Epoch 14/30\n",
      "37248/37248 [==============================] - 7s 187us/step - loss: 0.3376 - accuracy: 0.9443 - val_loss: 0.3158 - val_accuracy: 0.9454\n",
      "Epoch 15/30\n",
      "37248/37248 [==============================] - 7s 192us/step - loss: 0.3123 - accuracy: 0.9473 - val_loss: 0.2829 - val_accuracy: 0.9516\n",
      "Epoch 16/30\n",
      "37248/37248 [==============================] - 7s 187us/step - loss: 0.2883 - accuracy: 0.9530 - val_loss: 0.2665 - val_accuracy: 0.9556\n",
      "Epoch 17/30\n",
      "37248/37248 [==============================] - 7s 181us/step - loss: 0.2680 - accuracy: 0.9564 - val_loss: 0.2549 - val_accuracy: 0.9561\n",
      "Epoch 18/30\n",
      "37248/37248 [==============================] - 7s 198us/step - loss: 0.2474 - accuracy: 0.9609 - val_loss: 0.2378 - val_accuracy: 0.9607\n",
      "Epoch 19/30\n",
      "37248/37248 [==============================] - 7s 193us/step - loss: 0.2315 - accuracy: 0.9650 - val_loss: 0.2288 - val_accuracy: 0.9618\n",
      "Epoch 20/30\n",
      "37248/37248 [==============================] - 7s 197us/step - loss: 0.2176 - accuracy: 0.9667 - val_loss: 0.2118 - val_accuracy: 0.9623\n",
      "Epoch 21/30\n",
      "37248/37248 [==============================] - 7s 188us/step - loss: 0.2038 - accuracy: 0.9699 - val_loss: 0.1971 - val_accuracy: 0.9653\n",
      "Epoch 22/30\n",
      "37248/37248 [==============================] - 7s 196us/step - loss: 0.1910 - accuracy: 0.9709 - val_loss: 0.1904 - val_accuracy: 0.9699\n",
      "Epoch 23/30\n",
      "37248/37248 [==============================] - 7s 192us/step - loss: 0.1812 - accuracy: 0.9731 - val_loss: 0.1789 - val_accuracy: 0.9669\n",
      "Epoch 24/30\n",
      "37248/37248 [==============================] - 8s 202us/step - loss: 0.1707 - accuracy: 0.9748 - val_loss: 0.1780 - val_accuracy: 0.9699\n",
      "Epoch 25/30\n",
      "37248/37248 [==============================] - 7s 196us/step - loss: 0.1632 - accuracy: 0.9771 - val_loss: 0.1642 - val_accuracy: 0.9725\n",
      "Epoch 26/30\n",
      "37248/37248 [==============================] - 7s 187us/step - loss: 0.1525 - accuracy: 0.9787 - val_loss: 0.1577 - val_accuracy: 0.9720\n",
      "Epoch 27/30\n",
      "37248/37248 [==============================] - 7s 183us/step - loss: 0.1463 - accuracy: 0.9793 - val_loss: 0.1562 - val_accuracy: 0.9750\n",
      "Epoch 28/30\n",
      "37248/37248 [==============================] - 7s 185us/step - loss: 0.1406 - accuracy: 0.9798 - val_loss: 0.1514 - val_accuracy: 0.9760\n",
      "Epoch 29/30\n",
      "37248/37248 [==============================] - 7s 185us/step - loss: 0.1347 - accuracy: 0.9807 - val_loss: 0.1445 - val_accuracy: 0.9760\n",
      "Epoch 30/30\n",
      "37248/37248 [==============================] - 7s 189us/step - loss: 0.1276 - accuracy: 0.9828 - val_loss: 0.1411 - val_accuracy: 0.9765\n",
      "1961/1961 [==============================] - 0s 108us/step\n",
      "Train on 37248 samples, validate on 1961 samples\n",
      "Epoch 1/30\n",
      "37248/37248 [==============================] - 8s 205us/step - loss: 0.1490 - accuracy: 0.9731 - val_loss: 0.1571 - val_accuracy: 0.9714\n",
      "Epoch 2/30\n",
      "37248/37248 [==============================] - 7s 188us/step - loss: 0.1014 - accuracy: 0.9827 - val_loss: 0.0942 - val_accuracy: 0.9811\n",
      "Epoch 3/30\n",
      "37248/37248 [==============================] - 7s 196us/step - loss: 0.0735 - accuracy: 0.9886 - val_loss: 0.0810 - val_accuracy: 0.9816\n",
      "Epoch 4/30\n",
      "37248/37248 [==============================] - 7s 193us/step - loss: 0.0587 - accuracy: 0.9912 - val_loss: 0.0766 - val_accuracy: 0.9847\n",
      "Epoch 5/30\n",
      "37248/37248 [==============================] - 7s 191us/step - loss: 0.0460 - accuracy: 0.9940 - val_loss: 0.0631 - val_accuracy: 0.9888\n",
      "Epoch 6/30\n",
      "37248/37248 [==============================] - 7s 193us/step - loss: 0.0390 - accuracy: 0.9950 - val_loss: 0.0661 - val_accuracy: 0.9857\n",
      "Epoch 7/30\n",
      "37248/37248 [==============================] - 7s 188us/step - loss: 0.0326 - accuracy: 0.9963 - val_loss: 0.0690 - val_accuracy: 0.9847\n",
      "Epoch 8/30\n",
      "37248/37248 [==============================] - 7s 184us/step - loss: 0.0281 - accuracy: 0.9970 - val_loss: 0.0531 - val_accuracy: 0.9903\n",
      "Epoch 9/30\n",
      "37248/37248 [==============================] - 7s 186us/step - loss: 0.0234 - accuracy: 0.9982 - val_loss: 0.0482 - val_accuracy: 0.9908\n",
      "Epoch 10/30\n",
      "37248/37248 [==============================] - 7s 187us/step - loss: 0.0213 - accuracy: 0.9980 - val_loss: 0.0426 - val_accuracy: 0.9908\n",
      "Epoch 11/30\n",
      "37248/37248 [==============================] - 7s 183us/step - loss: 0.0197 - accuracy: 0.9980 - val_loss: 0.0483 - val_accuracy: 0.9903\n",
      "Epoch 12/30\n",
      "37248/37248 [==============================] - 7s 190us/step - loss: 0.0185 - accuracy: 0.9981 - val_loss: 0.0419 - val_accuracy: 0.9898\n",
      "Epoch 13/30\n",
      "37248/37248 [==============================] - 7s 190us/step - loss: 0.0150 - accuracy: 0.9987 - val_loss: 0.0430 - val_accuracy: 0.9913\n",
      "Epoch 14/30\n",
      "37248/37248 [==============================] - 7s 190us/step - loss: 0.0143 - accuracy: 0.9989 - val_loss: 0.0392 - val_accuracy: 0.9918\n",
      "Epoch 15/30\n",
      "37248/37248 [==============================] - 7s 188us/step - loss: 0.0123 - accuracy: 0.9993 - val_loss: 0.0385 - val_accuracy: 0.9913\n",
      "Epoch 16/30\n",
      "37248/37248 [==============================] - 7s 193us/step - loss: 0.0120 - accuracy: 0.9990 - val_loss: 0.0434 - val_accuracy: 0.9903\n",
      "Epoch 17/30\n",
      "37248/37248 [==============================] - 7s 188us/step - loss: 0.0113 - accuracy: 0.9991 - val_loss: 0.0381 - val_accuracy: 0.9918\n",
      "Epoch 18/30\n",
      "37248/37248 [==============================] - 7s 185us/step - loss: 0.0105 - accuracy: 0.9994 - val_loss: 0.0383 - val_accuracy: 0.9918\n",
      "Epoch 19/30\n",
      "37248/37248 [==============================] - 7s 187us/step - loss: 0.0103 - accuracy: 0.9991 - val_loss: 0.0366 - val_accuracy: 0.9908\n",
      "Epoch 20/30\n",
      "37248/37248 [==============================] - 7s 184us/step - loss: 0.0094 - accuracy: 0.9994 - val_loss: 0.0406 - val_accuracy: 0.9913\n",
      "Epoch 21/30\n",
      "37248/37248 [==============================] - 7s 181us/step - loss: 0.0091 - accuracy: 0.9992 - val_loss: 0.0361 - val_accuracy: 0.9903\n",
      "Epoch 22/30\n",
      "37248/37248 [==============================] - 7s 180us/step - loss: 0.0081 - accuracy: 0.9994 - val_loss: 0.0328 - val_accuracy: 0.9929\n",
      "Epoch 23/30\n",
      "37248/37248 [==============================] - 7s 187us/step - loss: 0.0074 - accuracy: 0.9996 - val_loss: 0.0357 - val_accuracy: 0.9918\n",
      "Epoch 24/30\n",
      "37248/37248 [==============================] - 7s 182us/step - loss: 0.0069 - accuracy: 0.9997 - val_loss: 0.0361 - val_accuracy: 0.9924\n",
      "Epoch 25/30\n",
      "37248/37248 [==============================] - 7s 182us/step - loss: 0.0062 - accuracy: 0.9998 - val_loss: 0.0341 - val_accuracy: 0.9929\n",
      "Epoch 26/30\n",
      "37248/37248 [==============================] - 7s 182us/step - loss: 0.0071 - accuracy: 0.9994 - val_loss: 0.0369 - val_accuracy: 0.9929\n",
      "Epoch 27/30\n",
      "37248/37248 [==============================] - 7s 184us/step - loss: 0.0067 - accuracy: 0.9995 - val_loss: 0.0351 - val_accuracy: 0.9929\n",
      "Epoch 28/30\n",
      "37248/37248 [==============================] - 7s 185us/step - loss: 0.0055 - accuracy: 0.9999 - val_loss: 0.0347 - val_accuracy: 0.9924\n",
      "Epoch 29/30\n",
      "37248/37248 [==============================] - 7s 182us/step - loss: 0.0058 - accuracy: 0.9998 - val_loss: 0.0359 - val_accuracy: 0.9918\n",
      "Epoch 30/30\n",
      "37248/37248 [==============================] - 7s 186us/step - loss: 0.0053 - accuracy: 0.9998 - val_loss: 0.0357 - val_accuracy: 0.9913\n",
      "1961/1961 [==============================] - 0s 95us/step\n",
      "Train on 37248 samples, validate on 1961 samples\n",
      "Epoch 1/30\n",
      "37248/37248 [==============================] - 7s 193us/step - loss: 0.3839 - accuracy: 0.8980 - val_loss: 0.2006 - val_accuracy: 0.9419\n",
      "Epoch 2/30\n",
      "37248/37248 [==============================] - 7s 180us/step - loss: 0.1113 - accuracy: 0.9691 - val_loss: 0.0929 - val_accuracy: 0.9740\n",
      "Epoch 3/30\n",
      "37248/37248 [==============================] - 7s 187us/step - loss: 0.0621 - accuracy: 0.9826 - val_loss: 0.1638 - val_accuracy: 0.9526\n",
      "Epoch 4/30\n",
      "37248/37248 [==============================] - 7s 180us/step - loss: 0.0411 - accuracy: 0.9882 - val_loss: 0.1030 - val_accuracy: 0.9842\n",
      "Epoch 5/30\n",
      "37248/37248 [==============================] - 7s 178us/step - loss: 0.0239 - accuracy: 0.9941 - val_loss: 0.0573 - val_accuracy: 0.9867\n",
      "Epoch 6/30\n",
      "37248/37248 [==============================] - 7s 180us/step - loss: 0.0180 - accuracy: 0.9959 - val_loss: 0.0581 - val_accuracy: 0.9852\n",
      "Epoch 7/30\n",
      "37248/37248 [==============================] - 7s 182us/step - loss: 0.0122 - accuracy: 0.9974 - val_loss: 0.0551 - val_accuracy: 0.9847\n",
      "Epoch 8/30\n",
      "37248/37248 [==============================] - 7s 180us/step - loss: 0.0685 - accuracy: 0.9804 - val_loss: 0.0904 - val_accuracy: 0.9781\n",
      "Epoch 9/30\n",
      "37248/37248 [==============================] - 7s 186us/step - loss: 0.0397 - accuracy: 0.9880 - val_loss: 0.0892 - val_accuracy: 0.9755\n",
      "Epoch 10/30\n",
      "37248/37248 [==============================] - 7s 183us/step - loss: 0.0233 - accuracy: 0.9935 - val_loss: 0.0615 - val_accuracy: 0.9832\n",
      "Epoch 11/30\n",
      "37248/37248 [==============================] - 7s 180us/step - loss: 0.0163 - accuracy: 0.9958 - val_loss: 0.0509 - val_accuracy: 0.9857\n",
      "Epoch 12/30\n",
      "37248/37248 [==============================] - 7s 176us/step - loss: 0.0127 - accuracy: 0.9967 - val_loss: 0.0415 - val_accuracy: 0.9893\n",
      "Epoch 13/30\n",
      "37248/37248 [==============================] - 7s 180us/step - loss: 0.0110 - accuracy: 0.9971 - val_loss: 0.0463 - val_accuracy: 0.9878\n",
      "Epoch 14/30\n",
      "37248/37248 [==============================] - 7s 179us/step - loss: 0.0073 - accuracy: 0.9984 - val_loss: 0.0438 - val_accuracy: 0.9883\n",
      "Epoch 15/30\n",
      "37248/37248 [==============================] - 7s 189us/step - loss: 0.0059 - accuracy: 0.9984 - val_loss: 0.1868 - val_accuracy: 0.9806\n",
      "Epoch 16/30\n",
      "37248/37248 [==============================] - 7s 176us/step - loss: 0.0042 - accuracy: 0.9992 - val_loss: 0.0344 - val_accuracy: 0.9924\n",
      "Epoch 17/30\n",
      "37248/37248 [==============================] - 7s 180us/step - loss: 0.0034 - accuracy: 0.9995 - val_loss: 0.0400 - val_accuracy: 0.9898\n",
      "Epoch 18/30\n",
      "37248/37248 [==============================] - 7s 178us/step - loss: 0.0037 - accuracy: 0.9991 - val_loss: 0.0351 - val_accuracy: 0.9924\n",
      "Epoch 19/30\n",
      "37248/37248 [==============================] - 6s 174us/step - loss: 0.0028 - accuracy: 0.9995 - val_loss: 0.0391 - val_accuracy: 0.9908\n",
      "Epoch 20/30\n",
      "37248/37248 [==============================] - 7s 185us/step - loss: 0.0029 - accuracy: 0.9994 - val_loss: 0.0317 - val_accuracy: 0.9934\n",
      "Epoch 21/30\n",
      "37248/37248 [==============================] - 7s 184us/step - loss: 0.0034 - accuracy: 0.9992 - val_loss: 0.0424 - val_accuracy: 0.9883\n",
      "Epoch 22/30\n",
      "37248/37248 [==============================] - 7s 182us/step - loss: 0.0027 - accuracy: 0.9994 - val_loss: 0.0310 - val_accuracy: 0.9913\n",
      "Epoch 23/30\n",
      "37248/37248 [==============================] - 7s 183us/step - loss: 0.0027 - accuracy: 0.9995 - val_loss: 0.0430 - val_accuracy: 0.9913\n",
      "Epoch 24/30\n",
      "37248/37248 [==============================] - 7s 186us/step - loss: 0.0021 - accuracy: 0.9996 - val_loss: 0.0333 - val_accuracy: 0.9918\n",
      "Epoch 25/30\n",
      "37248/37248 [==============================] - 7s 181us/step - loss: 0.0019 - accuracy: 0.9996 - val_loss: 0.0347 - val_accuracy: 0.9913\n",
      "Epoch 26/30\n",
      "37248/37248 [==============================] - 7s 180us/step - loss: 0.0013 - accuracy: 0.9999 - val_loss: 0.0319 - val_accuracy: 0.9929\n",
      "Epoch 27/30\n",
      "37248/37248 [==============================] - 7s 184us/step - loss: 0.0014 - accuracy: 0.9998 - val_loss: 0.0340 - val_accuracy: 0.9913\n",
      "Epoch 28/30\n",
      "37248/37248 [==============================] - 7s 186us/step - loss: 0.0012 - accuracy: 0.9999 - val_loss: 0.0347 - val_accuracy: 0.9929\n",
      "Epoch 29/30\n",
      "37248/37248 [==============================] - 7s 180us/step - loss: 8.8546e-04 - accuracy: 0.9999 - val_loss: 0.0353 - val_accuracy: 0.9918\n",
      "Epoch 30/30\n",
      "37248/37248 [==============================] - 7s 184us/step - loss: 0.0024 - accuracy: 0.9994 - val_loss: 0.0407 - val_accuracy: 0.9903\n",
      "1961/1961 [==============================] - 0s 96us/step\n",
      "Train on 37248 samples, validate on 1961 samples\n",
      "Epoch 1/30\n",
      "37248/37248 [==============================] - 7s 198us/step - loss: 0.5936 - accuracy: 0.8341 - val_loss: 0.3195 - val_accuracy: 0.8980\n",
      "Epoch 2/30\n",
      "37248/37248 [==============================] - 7s 199us/step - loss: 0.1654 - accuracy: 0.9504 - val_loss: 0.1529 - val_accuracy: 0.9541\n",
      "Epoch 3/30\n",
      "37248/37248 [==============================] - 7s 180us/step - loss: 0.0988 - accuracy: 0.9696 - val_loss: 0.1435 - val_accuracy: 0.9551\n",
      "Epoch 4/30\n",
      "37248/37248 [==============================] - 7s 184us/step - loss: 0.0663 - accuracy: 0.9790 - val_loss: 0.1198 - val_accuracy: 0.9699\n",
      "Epoch 5/30\n",
      "37248/37248 [==============================] - 7s 189us/step - loss: 0.0524 - accuracy: 0.9834 - val_loss: 0.1170 - val_accuracy: 0.9699\n",
      "Epoch 6/30\n",
      "37248/37248 [==============================] - 7s 178us/step - loss: 0.0441 - accuracy: 0.9860 - val_loss: 0.1893 - val_accuracy: 0.9709\n",
      "Epoch 7/30\n",
      "37248/37248 [==============================] - 7s 179us/step - loss: 0.0397 - accuracy: 0.9871 - val_loss: 0.1301 - val_accuracy: 0.9776\n",
      "Epoch 8/30\n",
      "37248/37248 [==============================] - 7s 181us/step - loss: 0.0301 - accuracy: 0.9899 - val_loss: 0.0779 - val_accuracy: 0.9842\n",
      "Epoch 9/30\n",
      "37248/37248 [==============================] - 7s 183us/step - loss: 0.0248 - accuracy: 0.9922 - val_loss: 0.0772 - val_accuracy: 0.9822\n",
      "Epoch 10/30\n",
      "37248/37248 [==============================] - 7s 176us/step - loss: 0.0269 - accuracy: 0.9912 - val_loss: 0.0895 - val_accuracy: 0.9796\n",
      "Epoch 11/30\n",
      "37248/37248 [==============================] - 7s 184us/step - loss: 0.0197 - accuracy: 0.9936 - val_loss: 0.1011 - val_accuracy: 0.9837\n",
      "Epoch 12/30\n",
      "37248/37248 [==============================] - 7s 181us/step - loss: 0.0246 - accuracy: 0.9922 - val_loss: 0.0605 - val_accuracy: 0.9888\n",
      "Epoch 13/30\n",
      "37248/37248 [==============================] - 7s 180us/step - loss: 0.0163 - accuracy: 0.9950 - val_loss: 0.0734 - val_accuracy: 0.9816\n",
      "Epoch 14/30\n",
      "37248/37248 [==============================] - 7s 180us/step - loss: 0.0157 - accuracy: 0.9951 - val_loss: 0.0710 - val_accuracy: 0.9862\n",
      "Epoch 15/30\n",
      "37248/37248 [==============================] - 7s 177us/step - loss: 0.0147 - accuracy: 0.9951 - val_loss: 0.0960 - val_accuracy: 0.9801\n",
      "Epoch 16/30\n",
      "37248/37248 [==============================] - 7s 179us/step - loss: 0.0124 - accuracy: 0.9959 - val_loss: 0.0783 - val_accuracy: 0.9883\n",
      "Epoch 17/30\n",
      "37248/37248 [==============================] - 7s 188us/step - loss: 0.0134 - accuracy: 0.9959 - val_loss: 0.0798 - val_accuracy: 0.9842\n",
      "Epoch 18/30\n",
      "37248/37248 [==============================] - 7s 185us/step - loss: 0.0112 - accuracy: 0.9964 - val_loss: 0.0785 - val_accuracy: 0.9816\n",
      "Epoch 19/30\n",
      "37248/37248 [==============================] - 7s 180us/step - loss: 0.0089 - accuracy: 0.9972 - val_loss: 0.0714 - val_accuracy: 0.9857\n",
      "Epoch 20/30\n",
      "37248/37248 [==============================] - 7s 178us/step - loss: 0.0084 - accuracy: 0.9974 - val_loss: 0.0650 - val_accuracy: 0.9873\n",
      "Epoch 21/30\n",
      "37248/37248 [==============================] - 7s 180us/step - loss: 0.0069 - accuracy: 0.9978 - val_loss: 0.0701 - val_accuracy: 0.9878\n",
      "Epoch 22/30\n",
      "37248/37248 [==============================] - 7s 178us/step - loss: 0.0094 - accuracy: 0.9969 - val_loss: 0.0740 - val_accuracy: 0.9862\n",
      "Epoch 23/30\n",
      "37248/37248 [==============================] - 7s 181us/step - loss: 0.0111 - accuracy: 0.9965 - val_loss: 0.0896 - val_accuracy: 0.9883\n",
      "Epoch 24/30\n",
      "37248/37248 [==============================] - 7s 189us/step - loss: 0.0113 - accuracy: 0.9965 - val_loss: 0.0658 - val_accuracy: 0.9878\n",
      "Epoch 25/30\n",
      "37248/37248 [==============================] - 7s 181us/step - loss: 0.0095 - accuracy: 0.9966 - val_loss: 0.0729 - val_accuracy: 0.9873\n",
      "Epoch 26/30\n",
      "37248/37248 [==============================] - 7s 182us/step - loss: 0.0526 - accuracy: 0.9899 - val_loss: 0.1167 - val_accuracy: 0.9730\n",
      "Epoch 27/30\n",
      "37248/37248 [==============================] - 7s 183us/step - loss: 0.0172 - accuracy: 0.9943 - val_loss: 0.0888 - val_accuracy: 0.9811\n",
      "Epoch 28/30\n",
      "37248/37248 [==============================] - 7s 189us/step - loss: 0.0085 - accuracy: 0.9973 - val_loss: 0.0628 - val_accuracy: 0.9883\n",
      "Epoch 29/30\n",
      "37248/37248 [==============================] - 7s 183us/step - loss: 0.0077 - accuracy: 0.9976 - val_loss: 0.0759 - val_accuracy: 0.9873\n",
      "Epoch 30/30\n",
      "37248/37248 [==============================] - 7s 177us/step - loss: 0.0063 - accuracy: 0.9979 - val_loss: 0.0846 - val_accuracy: 0.9857\n",
      "1961/1961 [==============================] - 0s 103us/step\n",
      "Train on 37248 samples, validate on 1961 samples\n",
      "Epoch 1/30\n",
      "37248/37248 [==============================] - 7s 196us/step - loss: 1.0064 - accuracy: 0.7480 - val_loss: 0.3509 - val_accuracy: 0.9001\n",
      "Epoch 2/30\n",
      "37248/37248 [==============================] - 7s 180us/step - loss: 0.2043 - accuracy: 0.9379 - val_loss: 0.1375 - val_accuracy: 0.9592\n",
      "Epoch 3/30\n",
      "37248/37248 [==============================] - 7s 180us/step - loss: 0.1046 - accuracy: 0.9659 - val_loss: 0.1785 - val_accuracy: 0.9516\n",
      "Epoch 4/30\n",
      "37248/37248 [==============================] - 7s 182us/step - loss: 0.0689 - accuracy: 0.9792 - val_loss: 0.1023 - val_accuracy: 0.9750\n",
      "Epoch 5/30\n",
      "37248/37248 [==============================] - 7s 175us/step - loss: 0.0453 - accuracy: 0.9855 - val_loss: 0.0863 - val_accuracy: 0.9781\n",
      "Epoch 6/30\n",
      "37248/37248 [==============================] - 7s 186us/step - loss: 0.0368 - accuracy: 0.9882 - val_loss: 0.0933 - val_accuracy: 0.9786\n",
      "Epoch 7/30\n",
      "37248/37248 [==============================] - 7s 191us/step - loss: 0.0289 - accuracy: 0.9904 - val_loss: 0.1179 - val_accuracy: 0.9735\n",
      "Epoch 8/30\n",
      "37248/37248 [==============================] - 7s 184us/step - loss: 0.0307 - accuracy: 0.9905 - val_loss: 0.0921 - val_accuracy: 0.9781\n",
      "Epoch 9/30\n",
      "37248/37248 [==============================] - 7s 189us/step - loss: 0.0238 - accuracy: 0.9922 - val_loss: 0.0819 - val_accuracy: 0.9791\n",
      "Epoch 10/30\n",
      "37248/37248 [==============================] - 7s 183us/step - loss: 0.0186 - accuracy: 0.9939 - val_loss: 0.0702 - val_accuracy: 0.9867\n",
      "Epoch 11/30\n",
      "37248/37248 [==============================] - 7s 181us/step - loss: 0.0167 - accuracy: 0.9947 - val_loss: 0.0614 - val_accuracy: 0.9873\n",
      "Epoch 12/30\n",
      "37248/37248 [==============================] - 7s 178us/step - loss: 0.0981 - accuracy: 0.9814 - val_loss: 0.0672 - val_accuracy: 0.9801\n",
      "Epoch 13/30\n",
      "37248/37248 [==============================] - 7s 181us/step - loss: 0.0137 - accuracy: 0.9961 - val_loss: 0.0704 - val_accuracy: 0.9842\n",
      "Epoch 14/30\n",
      "37248/37248 [==============================] - 7s 184us/step - loss: 0.0122 - accuracy: 0.9958 - val_loss: 0.0631 - val_accuracy: 0.9862\n",
      "Epoch 15/30\n",
      "37248/37248 [==============================] - 7s 177us/step - loss: 0.0108 - accuracy: 0.9965 - val_loss: 0.0780 - val_accuracy: 0.9857\n",
      "Epoch 16/30\n",
      "37248/37248 [==============================] - 7s 190us/step - loss: 0.0082 - accuracy: 0.9972 - val_loss: 0.0582 - val_accuracy: 0.9888\n",
      "Epoch 17/30\n",
      "37248/37248 [==============================] - 7s 188us/step - loss: 0.0099 - accuracy: 0.9972 - val_loss: 0.0684 - val_accuracy: 0.9852\n",
      "Epoch 18/30\n",
      "37248/37248 [==============================] - 7s 182us/step - loss: 0.0060 - accuracy: 0.9981 - val_loss: 0.0600 - val_accuracy: 0.9893\n",
      "Epoch 19/30\n",
      "37248/37248 [==============================] - 7s 189us/step - loss: 0.0060 - accuracy: 0.9982 - val_loss: 0.0732 - val_accuracy: 0.9878\n",
      "Epoch 20/30\n",
      "37248/37248 [==============================] - 7s 185us/step - loss: 0.0084 - accuracy: 0.9973 - val_loss: 0.0771 - val_accuracy: 0.9842\n",
      "Epoch 21/30\n",
      "37248/37248 [==============================] - 7s 179us/step - loss: 0.0099 - accuracy: 0.9965 - val_loss: 0.0894 - val_accuracy: 0.9867\n",
      "Epoch 22/30\n",
      "37248/37248 [==============================] - 7s 184us/step - loss: 0.0088 - accuracy: 0.9975 - val_loss: 0.0884 - val_accuracy: 0.9857\n",
      "Epoch 23/30\n",
      "37248/37248 [==============================] - 7s 187us/step - loss: 0.0085 - accuracy: 0.9973 - val_loss: 0.0838 - val_accuracy: 0.9857\n",
      "Epoch 24/30\n",
      "37248/37248 [==============================] - 7s 188us/step - loss: 0.0076 - accuracy: 0.9976 - val_loss: 0.0717 - val_accuracy: 0.9893\n",
      "Epoch 25/30\n",
      "37248/37248 [==============================] - 7s 184us/step - loss: 0.0064 - accuracy: 0.9978 - val_loss: 0.0669 - val_accuracy: 0.9878\n",
      "Epoch 26/30\n",
      "37248/37248 [==============================] - 7s 178us/step - loss: 0.0051 - accuracy: 0.9983 - val_loss: 0.0696 - val_accuracy: 0.9873\n",
      "Epoch 27/30\n",
      "37248/37248 [==============================] - 7s 182us/step - loss: 0.0045 - accuracy: 0.9984 - val_loss: 0.0669 - val_accuracy: 0.9883\n",
      "Epoch 28/30\n",
      "37248/37248 [==============================] - 7s 181us/step - loss: 0.0080 - accuracy: 0.9977 - val_loss: 0.0883 - val_accuracy: 0.9852\n",
      "Epoch 29/30\n",
      "37248/37248 [==============================] - 7s 186us/step - loss: 0.0066 - accuracy: 0.9979 - val_loss: 0.0953 - val_accuracy: 0.9847\n",
      "Epoch 30/30\n",
      "37248/37248 [==============================] - 7s 186us/step - loss: 0.0079 - accuracy: 0.9976 - val_loss: 0.0909 - val_accuracy: 0.9862\n",
      "1961/1961 [==============================] - 0s 109us/step\n",
      "Train on 37248 samples, validate on 1961 samples\n",
      "Epoch 1/30\n",
      "37248/37248 [==============================] - 7s 198us/step - loss: nan - accuracy: 0.0088 - val_loss: nan - val_accuracy: 0.0082\n",
      "Epoch 2/30\n",
      "37248/37248 [==============================] - 7s 187us/step - loss: nan - accuracy: 0.0052 - val_loss: nan - val_accuracy: 0.0082\n",
      "Epoch 3/30\n",
      "37248/37248 [==============================] - 7s 185us/step - loss: nan - accuracy: 0.0052 - val_loss: nan - val_accuracy: 0.0082\n",
      "Epoch 4/30\n",
      "37248/37248 [==============================] - 7s 180us/step - loss: nan - accuracy: 0.0052 - val_loss: nan - val_accuracy: 0.0082\n",
      "Epoch 5/30\n",
      "37248/37248 [==============================] - 7s 178us/step - loss: nan - accuracy: 0.0052 - val_loss: nan - val_accuracy: 0.0082\n",
      "Epoch 6/30\n",
      "37248/37248 [==============================] - 7s 190us/step - loss: nan - accuracy: 0.0052 - val_loss: nan - val_accuracy: 0.0082\n",
      "Epoch 7/30\n",
      "37248/37248 [==============================] - 7s 187us/step - loss: nan - accuracy: 0.0052 - val_loss: nan - val_accuracy: 0.0082\n",
      "Epoch 8/30\n",
      "37248/37248 [==============================] - 7s 186us/step - loss: nan - accuracy: 0.0052 - val_loss: nan - val_accuracy: 0.0082\n",
      "Epoch 9/30\n",
      "37248/37248 [==============================] - 7s 196us/step - loss: nan - accuracy: 0.0052 - val_loss: nan - val_accuracy: 0.0082\n",
      "Epoch 10/30\n",
      "37248/37248 [==============================] - 7s 184us/step - loss: nan - accuracy: 0.0052 - val_loss: nan - val_accuracy: 0.0082\n",
      "Epoch 11/30\n",
      "37248/37248 [==============================] - 7s 184us/step - loss: nan - accuracy: 0.0052 - val_loss: nan - val_accuracy: 0.0082\n",
      "Epoch 12/30\n",
      "37248/37248 [==============================] - 7s 183us/step - loss: nan - accuracy: 0.0052 - val_loss: nan - val_accuracy: 0.0082\n",
      "Epoch 13/30\n",
      "37248/37248 [==============================] - 7s 182us/step - loss: nan - accuracy: 0.0052 - val_loss: nan - val_accuracy: 0.0082\n",
      "Epoch 14/30\n",
      "37248/37248 [==============================] - 7s 189us/step - loss: nan - accuracy: 0.0052 - val_loss: nan - val_accuracy: 0.0082\n",
      "Epoch 15/30\n",
      "37248/37248 [==============================] - 7s 188us/step - loss: nan - accuracy: 0.0052 - val_loss: nan - val_accuracy: 0.0082\n",
      "Epoch 16/30\n",
      "37248/37248 [==============================] - 7s 181us/step - loss: nan - accuracy: 0.0052 - val_loss: nan - val_accuracy: 0.0082\n",
      "Epoch 17/30\n",
      "37248/37248 [==============================] - 7s 185us/step - loss: nan - accuracy: 0.0052 - val_loss: nan - val_accuracy: 0.0082\n",
      "Epoch 18/30\n",
      "37248/37248 [==============================] - 7s 181us/step - loss: nan - accuracy: 0.0052 - val_loss: nan - val_accuracy: 0.0082\n",
      "Epoch 19/30\n",
      "37248/37248 [==============================] - 7s 186us/step - loss: nan - accuracy: 0.0052 - val_loss: nan - val_accuracy: 0.0082\n",
      "Epoch 20/30\n",
      "37248/37248 [==============================] - 7s 183us/step - loss: nan - accuracy: 0.0052 - val_loss: nan - val_accuracy: 0.0082\n",
      "Epoch 21/30\n",
      "37248/37248 [==============================] - 7s 186us/step - loss: nan - accuracy: 0.0052 - val_loss: nan - val_accuracy: 0.0082\n",
      "Epoch 22/30\n",
      "37248/37248 [==============================] - 7s 193us/step - loss: nan - accuracy: 0.0052 - val_loss: nan - val_accuracy: 0.0082\n",
      "Epoch 23/30\n",
      "37248/37248 [==============================] - 7s 180us/step - loss: nan - accuracy: 0.0052 - val_loss: nan - val_accuracy: 0.0082\n",
      "Epoch 24/30\n",
      "37248/37248 [==============================] - 7s 188us/step - loss: nan - accuracy: 0.0052 - val_loss: nan - val_accuracy: 0.0082\n",
      "Epoch 25/30\n",
      "37248/37248 [==============================] - 7s 200us/step - loss: nan - accuracy: 0.0052 - val_loss: nan - val_accuracy: 0.0082\n",
      "Epoch 26/30\n",
      "37248/37248 [==============================] - 7s 185us/step - loss: nan - accuracy: 0.0052 - val_loss: nan - val_accuracy: 0.0082\n",
      "Epoch 27/30\n",
      "37248/37248 [==============================] - 7s 182us/step - loss: nan - accuracy: 0.0052 - val_loss: nan - val_accuracy: 0.0082\n",
      "Epoch 28/30\n",
      "37248/37248 [==============================] - 7s 184us/step - loss: nan - accuracy: 0.0052 - val_loss: nan - val_accuracy: 0.0082\n",
      "Epoch 29/30\n",
      "37248/37248 [==============================] - 7s 187us/step - loss: nan - accuracy: 0.0052 - val_loss: nan - val_accuracy: 0.0082\n",
      "Epoch 30/30\n",
      "37248/37248 [==============================] - 7s 187us/step - loss: nan - accuracy: 0.0052 - val_loss: nan - val_accuracy: 0.0082\n",
      "1961/1961 [==============================] - 0s 100us/step\n"
     ]
    }
   ],
   "source": [
    "#increment learning rate with relu\n",
    "model = build_model(activation = 'relu', batch_normalization = True)\n",
    "learn = [0.001, 0.01, 0.10, 0.50, 1, 5]\n",
    "res_relu =[]\n",
    "\n",
    "for i in learn:\n",
    "    opt = tf.keras.optimizers.SGD(learning_rate = i, momentum = 0.0, nesterov=False)\n",
    "    model.compile(loss = 'categorical_crossentropy', optimizer = opt, metrics = ['accuracy'])\n",
    "    model.fit(x_tr, y_tr, epochs = 30, validation_data= (x_tst, y_tst))\n",
    "    loss, accuracy = model.evaluate(x_tst, y_tst)\n",
    "    res_relu.append(accuracy)\n",
    "\n",
    "#model.summary()"
   ]
  },
  {
   "cell_type": "code",
   "execution_count": 37,
   "metadata": {
    "colab": {
     "base_uri": "https://localhost:8080/",
     "height": 346
    },
    "colab_type": "code",
    "id": "wEMCwZ8VFeOH",
    "outputId": "7f9f1bb0-e5fe-4bc5-d04d-035560b8653f"
   },
   "outputs": [
    {
     "name": "stdout",
     "output_type": "stream",
     "text": [
      "learn rate:  [0.001, 0.01, 0.1, 0.5, 1, 5]\n",
      "relu:  [0.976542592048645, 0.9913309812545776, 0.9903110861778259, 0.9857215881347656, 0.9862315058708191, 0.008159102872014046]\n",
      "sigmoid:  [0.9770525097846985, 0.9954105019569397, 0.9938806891441345, 0.9745028018951416, 0.3844977021217346, 0.008159102872014046]\n"
     ]
    },
    {
     "data": {
      "image/png": "[encoded data removed]",
      "text/plain": [
       "<Figure size 432x288 with 1 Axes>"
      ]
     },
     "metadata": {
      "needs_background": "light",
      "tags": []
     },
     "output_type": "display_data"
    }
   ],
   "source": [
    "#plot learning rates vs accuracy\n",
    "#res_sig = np.array(res)\n",
    "plt.plot(learn, res_sig, label='sigmoid')\n",
    "plt.plot(learn, res_relu, label='relu')\n",
    "plt.xlabel('learning rate')\n",
    "plt.ylabel('accuracy')\n",
    "plt.legend()\n",
    "plt.title('Learning Rate')\n",
    "print('learn rate: ', learn)\n",
    "print('relu: ',res_relu)\n",
    "print('sigmoid: ', res_sig)"
   ]
  },
  {
   "cell_type": "code",
   "execution_count": 34,
   "metadata": {
    "colab": {
     "base_uri": "https://localhost:8080/",
     "height": 1000
    },
    "colab_type": "code",
    "id": "vp-CKtK_Mbn4",
    "outputId": "d24bb243-65a6-4e36-aa98-b68e77fdef8f"
   },
   "outputs": [
    {
     "name": "stdout",
     "output_type": "stream",
     "text": [
      "Train on 37248 samples, validate on 1961 samples\n",
      "Epoch 1/30\n",
      "37248/37248 [==============================] - 7s 197us/step - loss: 0.9269 - accuracy: 0.7779 - val_loss: 0.2489 - val_accuracy: 0.9434\n",
      "Epoch 2/30\n",
      "37248/37248 [==============================] - 7s 182us/step - loss: 0.1881 - accuracy: 0.9640 - val_loss: 0.1438 - val_accuracy: 0.9694\n",
      "Epoch 3/30\n",
      "37248/37248 [==============================] - 7s 178us/step - loss: 0.0944 - accuracy: 0.9837 - val_loss: 0.1295 - val_accuracy: 0.9648\n",
      "Epoch 4/30\n",
      "37248/37248 [==============================] - 7s 182us/step - loss: 0.0563 - accuracy: 0.9922 - val_loss: 0.0762 - val_accuracy: 0.9796\n",
      "Epoch 5/30\n",
      "37248/37248 [==============================] - 7s 191us/step - loss: 0.0400 - accuracy: 0.9950 - val_loss: 0.0569 - val_accuracy: 0.9867\n",
      "Epoch 6/30\n",
      "37248/37248 [==============================] - 7s 195us/step - loss: 0.0289 - accuracy: 0.9966 - val_loss: 0.0571 - val_accuracy: 0.9862\n",
      "Epoch 7/30\n",
      "37248/37248 [==============================] - 7s 180us/step - loss: 0.0241 - accuracy: 0.9970 - val_loss: 0.0484 - val_accuracy: 0.9852\n",
      "Epoch 8/30\n",
      "37248/37248 [==============================] - 7s 181us/step - loss: 0.0184 - accuracy: 0.9981 - val_loss: 0.0387 - val_accuracy: 0.9903\n",
      "Epoch 9/30\n",
      "37248/37248 [==============================] - 7s 183us/step - loss: 0.0147 - accuracy: 0.9990 - val_loss: 0.0417 - val_accuracy: 0.9883\n",
      "Epoch 10/30\n",
      "37248/37248 [==============================] - 7s 177us/step - loss: 0.0129 - accuracy: 0.9990 - val_loss: 0.0373 - val_accuracy: 0.9888\n",
      "Epoch 11/30\n",
      "37248/37248 [==============================] - 7s 185us/step - loss: 0.0113 - accuracy: 0.9992 - val_loss: 0.0396 - val_accuracy: 0.9888\n",
      "Epoch 12/30\n",
      "37248/37248 [==============================] - 7s 178us/step - loss: 0.0093 - accuracy: 0.9993 - val_loss: 0.0331 - val_accuracy: 0.9898\n",
      "Epoch 13/30\n",
      "37248/37248 [==============================] - 7s 183us/step - loss: 0.0090 - accuracy: 0.9991 - val_loss: 0.0471 - val_accuracy: 0.9862\n",
      "Epoch 14/30\n",
      "37248/37248 [==============================] - 7s 192us/step - loss: 0.0078 - accuracy: 0.9994 - val_loss: 0.0326 - val_accuracy: 0.9898\n",
      "Epoch 15/30\n",
      "37248/37248 [==============================] - 7s 180us/step - loss: 0.0064 - accuracy: 0.9997 - val_loss: 0.0352 - val_accuracy: 0.9908\n",
      "Epoch 16/30\n",
      "37248/37248 [==============================] - 7s 195us/step - loss: 0.0064 - accuracy: 0.9995 - val_loss: 0.0321 - val_accuracy: 0.9918\n",
      "Epoch 17/30\n",
      "37248/37248 [==============================] - 7s 180us/step - loss: 0.0063 - accuracy: 0.9995 - val_loss: 0.0322 - val_accuracy: 0.9898\n",
      "Epoch 18/30\n",
      "37248/37248 [==============================] - 7s 180us/step - loss: 0.0049 - accuracy: 0.9999 - val_loss: 0.0304 - val_accuracy: 0.9918\n",
      "Epoch 19/30\n",
      "37248/37248 [==============================] - 7s 183us/step - loss: 0.0046 - accuracy: 0.9998 - val_loss: 0.0291 - val_accuracy: 0.9913\n",
      "Epoch 20/30\n",
      "37248/37248 [==============================] - 7s 185us/step - loss: 0.0048 - accuracy: 0.9996 - val_loss: 0.0254 - val_accuracy: 0.9934\n",
      "Epoch 21/30\n",
      "37248/37248 [==============================] - 7s 182us/step - loss: 0.0039 - accuracy: 0.9999 - val_loss: 0.0291 - val_accuracy: 0.9924\n",
      "Epoch 22/30\n",
      "37248/37248 [==============================] - 7s 183us/step - loss: 0.0035 - accuracy: 0.9999 - val_loss: 0.0260 - val_accuracy: 0.9929\n",
      "Epoch 23/30\n",
      "37248/37248 [==============================] - 7s 178us/step - loss: 0.0037 - accuracy: 0.9998 - val_loss: 0.0279 - val_accuracy: 0.9918\n",
      "Epoch 24/30\n",
      "37248/37248 [==============================] - 7s 187us/step - loss: 0.0035 - accuracy: 0.9998 - val_loss: 0.0263 - val_accuracy: 0.9929\n",
      "Epoch 25/30\n",
      "37248/37248 [==============================] - 7s 184us/step - loss: 0.0029 - accuracy: 1.0000 - val_loss: 0.0331 - val_accuracy: 0.9918\n",
      "Epoch 26/30\n",
      "37248/37248 [==============================] - 7s 186us/step - loss: 0.0028 - accuracy: 1.0000 - val_loss: 0.0267 - val_accuracy: 0.9929\n",
      "Epoch 27/30\n",
      "37248/37248 [==============================] - 7s 182us/step - loss: 0.0026 - accuracy: 1.0000 - val_loss: 0.0279 - val_accuracy: 0.9913\n",
      "Epoch 28/30\n",
      "37248/37248 [==============================] - 7s 183us/step - loss: 0.0029 - accuracy: 0.9998 - val_loss: 0.0256 - val_accuracy: 0.9939\n",
      "Epoch 29/30\n",
      "37248/37248 [==============================] - 7s 177us/step - loss: 0.0023 - accuracy: 1.0000 - val_loss: 0.0244 - val_accuracy: 0.9934\n",
      "Epoch 30/30\n",
      "37248/37248 [==============================] - 7s 193us/step - loss: 0.0022 - accuracy: 1.0000 - val_loss: 0.0240 - val_accuracy: 0.9944\n"
     ]
    },
    {
     "data": {
      "text/plain": [
       "<keras.callbacks.callbacks.History at 0x7f1903200c88>"
      ]
     },
     "execution_count": 34,
     "metadata": {
      "tags": []
     },
     "output_type": "execute_result"
    }
   ],
   "source": [
    "#run final model for submission\n",
    "model = build_model(activation = 'relu', batch_normalization = True)\n",
    "opt = tf.keras.optimizers.SGD(learning_rate = 0.01, momentum = 0.5, nesterov=True)\n",
    "model.compile(loss = 'categorical_crossentropy', optimizer = opt, metrics = ['accuracy'])\n",
    "model.fit(x_tr, y_tr, epochs = 30, validation_data= (x_tst, y_tst))\n"
   ]
  },
  {
   "cell_type": "code",
   "execution_count": 12,
   "metadata": {
    "colab": {
     "base_uri": "https://localhost:8080/",
     "height": 50
    },
    "colab_type": "code",
    "id": "oEVXvN8yf158",
    "outputId": "280aaee3-fe29-47fd-c950-701b7978da8e"
   },
   "outputs": [
    {
     "name": "stdout",
     "output_type": "stream",
     "text": [
      "1961/1961 [==============================] - 0s 95us/step\n",
      "Test accuracy: 0.9939\n"
     ]
    }
   ],
   "source": [
    "loss, accuracy = model.evaluate(x_tst, y_tst)\n",
    "print('Test accuracy: %.4f' % (accuracy))"
   ]
  },
  {
   "cell_type": "markdown",
   "metadata": {
    "colab_type": "text",
    "id": "sRf_XhQeldqz"
   },
   "source": [
    "##below is to create the kaggle submission file"
   ]
  },
  {
   "cell_type": "code",
   "execution_count": 0,
   "metadata": {
    "colab": {},
    "colab_type": "code",
    "id": "x40aYdvy9Gik"
   },
   "outputs": [],
   "source": [
    "yhat_hot = model.predict_classes(xtest)\n"
   ]
  },
  {
   "cell_type": "code",
   "execution_count": 14,
   "metadata": {
    "colab": {
     "base_uri": "https://localhost:8080/",
     "height": 34
    },
    "colab_type": "code",
    "id": "7SOv9A129bMz",
    "outputId": "963e204f-6868-4989-fd4e-64d1adf743bf"
   },
   "outputs": [
    {
     "data": {
      "text/plain": [
       "(12630,)"
      ]
     },
     "execution_count": 14,
     "metadata": {
      "tags": []
     },
     "output_type": "execute_result"
    }
   ],
   "source": [
    "yhat_hot.shape"
   ]
  },
  {
   "cell_type": "code",
   "execution_count": 15,
   "metadata": {
    "colab": {
     "base_uri": "https://localhost:8080/",
     "height": 34
    },
    "colab_type": "code",
    "id": "gCYcoFXgGcyx",
    "outputId": "f3a64451-869c-439a-897a-e6f66cbc629d"
   },
   "outputs": [
    {
     "data": {
      "text/plain": [
       "array([16,  1, 38, 33, 11])"
      ]
     },
     "execution_count": 15,
     "metadata": {
      "tags": []
     },
     "output_type": "execute_result"
    }
   ],
   "source": [
    "yhat_hot[0:5]"
   ]
  },
  {
   "cell_type": "code",
   "execution_count": 16,
   "metadata": {
    "colab": {
     "base_uri": "https://localhost:8080/",
     "height": 34
    },
    "colab_type": "code",
    "id": "wvDAslmM_P8W",
    "outputId": "f1821ecc-0156-409f-8e86-1371f6ec411b"
   },
   "outputs": [
    {
     "data": {
      "text/plain": [
       "'oh_42'"
      ]
     },
     "execution_count": 16,
     "metadata": {
      "tags": []
     },
     "output_type": "execute_result"
    }
   ],
   "source": [
    "label_list = []\n",
    "for i in range(len(set(ytrain0))):\n",
    "    a = 'oh_' + str(i)\n",
    "    label_list.append(a)\n",
    "\n",
    "label_list[-1]    "
   ]
  },
  {
   "cell_type": "code",
   "execution_count": 17,
   "metadata": {
    "colab": {
     "base_uri": "https://localhost:8080/",
     "height": 34
    },
    "colab_type": "code",
    "id": "xlL_F0PzB637",
    "outputId": "f4a4a0a5-1732-4f89-858c-52edf890faff"
   },
   "outputs": [
    {
     "data": {
      "text/plain": [
       "(12630, 43)"
      ]
     },
     "execution_count": 17,
     "metadata": {
      "tags": []
     },
     "output_type": "execute_result"
    }
   ],
   "source": [
    "rows = len(yhat_hot)\n",
    "columns = len(set(ytrain0))\n",
    "res_array = np.zeros((rows, columns), dtype=int)\n",
    "res_array.shape"
   ]
  },
  {
   "cell_type": "code",
   "execution_count": 0,
   "metadata": {
    "colab": {},
    "colab_type": "code",
    "id": "3Py_rjzlEIzO"
   },
   "outputs": [],
   "source": [
    "df_hot = pd.DataFrame(res_array, columns = label_list)\n",
    "i = 0\n",
    "for lb in yhat_hot:\n",
    "    df_hot.iloc[i][lb] = 1\n",
    "    i += 1"
   ]
  },
  {
   "cell_type": "code",
   "execution_count": 0,
   "metadata": {
    "colab": {},
    "colab_type": "code",
    "id": "cB8jkS0fGmrW"
   },
   "outputs": [],
   "source": [
    "\n",
    "df_hot.insert(0,'id', np.arange(len(xtest)))\n"
   ]
  },
  {
   "cell_type": "code",
   "execution_count": 20,
   "metadata": {
    "colab": {
     "base_uri": "https://localhost:8080/",
     "height": 215
    },
    "colab_type": "code",
    "id": "lRdjtVxmJlIh",
    "outputId": "11a4aed3-a269-4cae-ed14-37c1c5d9cf38"
   },
   "outputs": [
    {
     "data": {
      "text/html": [
       "<div>\n",
       "<style scoped>\n",
       "    .dataframe tbody tr th:only-of-type {\n",
       "        vertical-align: middle;\n",
       "    }\n",
       "\n",
       "    .dataframe tbody tr th {\n",
       "        vertical-align: top;\n",
       "    }\n",
       "\n",
       "    .dataframe thead th {\n",
       "        text-align: right;\n",
       "    }\n",
       "</style>\n",
       "<table border=\"1\" class=\"dataframe\">\n",
       "  <thead>\n",
       "    <tr style=\"text-align: right;\">\n",
       "      <th></th>\n",
       "      <th>id</th>\n",
       "      <th>oh_0</th>\n",
       "      <th>oh_1</th>\n",
       "      <th>oh_2</th>\n",
       "      <th>oh_3</th>\n",
       "      <th>oh_4</th>\n",
       "      <th>oh_5</th>\n",
       "      <th>oh_6</th>\n",
       "      <th>oh_7</th>\n",
       "      <th>oh_8</th>\n",
       "      <th>oh_9</th>\n",
       "      <th>oh_10</th>\n",
       "      <th>oh_11</th>\n",
       "      <th>oh_12</th>\n",
       "      <th>oh_13</th>\n",
       "      <th>oh_14</th>\n",
       "      <th>oh_15</th>\n",
       "      <th>oh_16</th>\n",
       "      <th>oh_17</th>\n",
       "      <th>oh_18</th>\n",
       "      <th>oh_19</th>\n",
       "      <th>oh_20</th>\n",
       "      <th>oh_21</th>\n",
       "      <th>oh_22</th>\n",
       "      <th>oh_23</th>\n",
       "      <th>oh_24</th>\n",
       "      <th>oh_25</th>\n",
       "      <th>oh_26</th>\n",
       "      <th>oh_27</th>\n",
       "      <th>oh_28</th>\n",
       "      <th>oh_29</th>\n",
       "      <th>oh_30</th>\n",
       "      <th>oh_31</th>\n",
       "      <th>oh_32</th>\n",
       "      <th>oh_33</th>\n",
       "      <th>oh_34</th>\n",
       "      <th>oh_35</th>\n",
       "      <th>oh_36</th>\n",
       "      <th>oh_37</th>\n",
       "      <th>oh_38</th>\n",
       "      <th>oh_39</th>\n",
       "      <th>oh_40</th>\n",
       "      <th>oh_41</th>\n",
       "      <th>oh_42</th>\n",
       "    </tr>\n",
       "  </thead>\n",
       "  <tbody>\n",
       "    <tr>\n",
       "      <th>0</th>\n",
       "      <td>0</td>\n",
       "      <td>0</td>\n",
       "      <td>0</td>\n",
       "      <td>0</td>\n",
       "      <td>0</td>\n",
       "      <td>0</td>\n",
       "      <td>0</td>\n",
       "      <td>0</td>\n",
       "      <td>0</td>\n",
       "      <td>0</td>\n",
       "      <td>0</td>\n",
       "      <td>0</td>\n",
       "      <td>0</td>\n",
       "      <td>0</td>\n",
       "      <td>0</td>\n",
       "      <td>0</td>\n",
       "      <td>0</td>\n",
       "      <td>1</td>\n",
       "      <td>0</td>\n",
       "      <td>0</td>\n",
       "      <td>0</td>\n",
       "      <td>0</td>\n",
       "      <td>0</td>\n",
       "      <td>0</td>\n",
       "      <td>0</td>\n",
       "      <td>0</td>\n",
       "      <td>0</td>\n",
       "      <td>0</td>\n",
       "      <td>0</td>\n",
       "      <td>0</td>\n",
       "      <td>0</td>\n",
       "      <td>0</td>\n",
       "      <td>0</td>\n",
       "      <td>0</td>\n",
       "      <td>0</td>\n",
       "      <td>0</td>\n",
       "      <td>0</td>\n",
       "      <td>0</td>\n",
       "      <td>0</td>\n",
       "      <td>0</td>\n",
       "      <td>0</td>\n",
       "      <td>0</td>\n",
       "      <td>0</td>\n",
       "      <td>0</td>\n",
       "    </tr>\n",
       "    <tr>\n",
       "      <th>1</th>\n",
       "      <td>1</td>\n",
       "      <td>0</td>\n",
       "      <td>1</td>\n",
       "      <td>0</td>\n",
       "      <td>0</td>\n",
       "      <td>0</td>\n",
       "      <td>0</td>\n",
       "      <td>0</td>\n",
       "      <td>0</td>\n",
       "      <td>0</td>\n",
       "      <td>0</td>\n",
       "      <td>0</td>\n",
       "      <td>0</td>\n",
       "      <td>0</td>\n",
       "      <td>0</td>\n",
       "      <td>0</td>\n",
       "      <td>0</td>\n",
       "      <td>0</td>\n",
       "      <td>0</td>\n",
       "      <td>0</td>\n",
       "      <td>0</td>\n",
       "      <td>0</td>\n",
       "      <td>0</td>\n",
       "      <td>0</td>\n",
       "      <td>0</td>\n",
       "      <td>0</td>\n",
       "      <td>0</td>\n",
       "      <td>0</td>\n",
       "      <td>0</td>\n",
       "      <td>0</td>\n",
       "      <td>0</td>\n",
       "      <td>0</td>\n",
       "      <td>0</td>\n",
       "      <td>0</td>\n",
       "      <td>0</td>\n",
       "      <td>0</td>\n",
       "      <td>0</td>\n",
       "      <td>0</td>\n",
       "      <td>0</td>\n",
       "      <td>0</td>\n",
       "      <td>0</td>\n",
       "      <td>0</td>\n",
       "      <td>0</td>\n",
       "      <td>0</td>\n",
       "    </tr>\n",
       "    <tr>\n",
       "      <th>2</th>\n",
       "      <td>2</td>\n",
       "      <td>0</td>\n",
       "      <td>0</td>\n",
       "      <td>0</td>\n",
       "      <td>0</td>\n",
       "      <td>0</td>\n",
       "      <td>0</td>\n",
       "      <td>0</td>\n",
       "      <td>0</td>\n",
       "      <td>0</td>\n",
       "      <td>0</td>\n",
       "      <td>0</td>\n",
       "      <td>0</td>\n",
       "      <td>0</td>\n",
       "      <td>0</td>\n",
       "      <td>0</td>\n",
       "      <td>0</td>\n",
       "      <td>0</td>\n",
       "      <td>0</td>\n",
       "      <td>0</td>\n",
       "      <td>0</td>\n",
       "      <td>0</td>\n",
       "      <td>0</td>\n",
       "      <td>0</td>\n",
       "      <td>0</td>\n",
       "      <td>0</td>\n",
       "      <td>0</td>\n",
       "      <td>0</td>\n",
       "      <td>0</td>\n",
       "      <td>0</td>\n",
       "      <td>0</td>\n",
       "      <td>0</td>\n",
       "      <td>0</td>\n",
       "      <td>0</td>\n",
       "      <td>0</td>\n",
       "      <td>0</td>\n",
       "      <td>0</td>\n",
       "      <td>0</td>\n",
       "      <td>0</td>\n",
       "      <td>1</td>\n",
       "      <td>0</td>\n",
       "      <td>0</td>\n",
       "      <td>0</td>\n",
       "      <td>0</td>\n",
       "    </tr>\n",
       "    <tr>\n",
       "      <th>3</th>\n",
       "      <td>3</td>\n",
       "      <td>0</td>\n",
       "      <td>0</td>\n",
       "      <td>0</td>\n",
       "      <td>0</td>\n",
       "      <td>0</td>\n",
       "      <td>0</td>\n",
       "      <td>0</td>\n",
       "      <td>0</td>\n",
       "      <td>0</td>\n",
       "      <td>0</td>\n",
       "      <td>0</td>\n",
       "      <td>0</td>\n",
       "      <td>0</td>\n",
       "      <td>0</td>\n",
       "      <td>0</td>\n",
       "      <td>0</td>\n",
       "      <td>0</td>\n",
       "      <td>0</td>\n",
       "      <td>0</td>\n",
       "      <td>0</td>\n",
       "      <td>0</td>\n",
       "      <td>0</td>\n",
       "      <td>0</td>\n",
       "      <td>0</td>\n",
       "      <td>0</td>\n",
       "      <td>0</td>\n",
       "      <td>0</td>\n",
       "      <td>0</td>\n",
       "      <td>0</td>\n",
       "      <td>0</td>\n",
       "      <td>0</td>\n",
       "      <td>0</td>\n",
       "      <td>0</td>\n",
       "      <td>1</td>\n",
       "      <td>0</td>\n",
       "      <td>0</td>\n",
       "      <td>0</td>\n",
       "      <td>0</td>\n",
       "      <td>0</td>\n",
       "      <td>0</td>\n",
       "      <td>0</td>\n",
       "      <td>0</td>\n",
       "      <td>0</td>\n",
       "    </tr>\n",
       "    <tr>\n",
       "      <th>4</th>\n",
       "      <td>4</td>\n",
       "      <td>0</td>\n",
       "      <td>0</td>\n",
       "      <td>0</td>\n",
       "      <td>0</td>\n",
       "      <td>0</td>\n",
       "      <td>0</td>\n",
       "      <td>0</td>\n",
       "      <td>0</td>\n",
       "      <td>0</td>\n",
       "      <td>0</td>\n",
       "      <td>0</td>\n",
       "      <td>1</td>\n",
       "      <td>0</td>\n",
       "      <td>0</td>\n",
       "      <td>0</td>\n",
       "      <td>0</td>\n",
       "      <td>0</td>\n",
       "      <td>0</td>\n",
       "      <td>0</td>\n",
       "      <td>0</td>\n",
       "      <td>0</td>\n",
       "      <td>0</td>\n",
       "      <td>0</td>\n",
       "      <td>0</td>\n",
       "      <td>0</td>\n",
       "      <td>0</td>\n",
       "      <td>0</td>\n",
       "      <td>0</td>\n",
       "      <td>0</td>\n",
       "      <td>0</td>\n",
       "      <td>0</td>\n",
       "      <td>0</td>\n",
       "      <td>0</td>\n",
       "      <td>0</td>\n",
       "      <td>0</td>\n",
       "      <td>0</td>\n",
       "      <td>0</td>\n",
       "      <td>0</td>\n",
       "      <td>0</td>\n",
       "      <td>0</td>\n",
       "      <td>0</td>\n",
       "      <td>0</td>\n",
       "      <td>0</td>\n",
       "    </tr>\n",
       "  </tbody>\n",
       "</table>\n",
       "</div>"
      ],
      "text/plain": [
       "   id  oh_0  oh_1  oh_2  oh_3  oh_4  ...  oh_37  oh_38  oh_39  oh_40  oh_41  oh_42\n",
       "0   0     0     0     0     0     0  ...      0      0      0      0      0      0\n",
       "1   1     0     1     0     0     0  ...      0      0      0      0      0      0\n",
       "2   2     0     0     0     0     0  ...      0      1      0      0      0      0\n",
       "3   3     0     0     0     0     0  ...      0      0      0      0      0      0\n",
       "4   4     0     0     0     0     0  ...      0      0      0      0      0      0\n",
       "\n",
       "[5 rows x 44 columns]"
      ]
     },
     "execution_count": 20,
     "metadata": {
      "tags": []
     },
     "output_type": "execute_result"
    }
   ],
   "source": [
    "df_hot.head()"
   ]
  },
  {
   "cell_type": "code",
   "execution_count": 0,
   "metadata": {
    "colab": {},
    "colab_type": "code",
    "id": "CqAmCzPQJwlw"
   },
   "outputs": [],
   "source": [
    "df_hot.to_csv('./drive/My Drive/Colab Notebooks/data/csci4622_kaggle3/final_hot.csv', index=False)"
   ]
  },
  {
   "cell_type": "markdown",
   "metadata": {
    "colab_type": "text",
    "id": "8Ro_md9qLudu"
   },
   "source": [
    "##below is to error check and visualization"
   ]
  },
  {
   "cell_type": "code",
   "execution_count": 22,
   "metadata": {
    "colab": {
     "base_uri": "https://localhost:8080/",
     "height": 34
    },
    "colab_type": "code",
    "id": "2woLArmNjpdJ",
    "outputId": "2f5b3a55-7492-44d2-baa4-80715a48b3fa"
   },
   "outputs": [
    {
     "name": "stdout",
     "output_type": "stream",
     "text": [
      "1961/1961 [==============================] - 0s 91us/step\n"
     ]
    }
   ],
   "source": [
    "yhat = model.predict(x_tst, verbose = True)"
   ]
  },
  {
   "cell_type": "code",
   "execution_count": 0,
   "metadata": {
    "colab": {},
    "colab_type": "code",
    "id": "-ULOq39_kgeg"
   },
   "outputs": [],
   "source": [
    "y_TST = [np.argmax(y_tst[i]) for i in range(len(y_tst))]"
   ]
  },
  {
   "cell_type": "code",
   "execution_count": 24,
   "metadata": {
    "colab": {
     "base_uri": "https://localhost:8080/",
     "height": 34
    },
    "colab_type": "code",
    "id": "ERU5jH6xpWxR",
    "outputId": "81a35ee6-7360-4325-8129-399a1f9387db"
   },
   "outputs": [
    {
     "data": {
      "text/plain": [
       "[15, 2, 3, 38, 4]"
      ]
     },
     "execution_count": 24,
     "metadata": {
      "tags": []
     },
     "output_type": "execute_result"
    }
   ],
   "source": [
    "y_TST[0:5]"
   ]
  },
  {
   "cell_type": "code",
   "execution_count": 25,
   "metadata": {
    "colab": {
     "base_uri": "https://localhost:8080/",
     "height": 269
    },
    "colab_type": "code",
    "id": "Ua3YOLX731Dz",
    "outputId": "64e3fb6f-8369-4b68-9222-b6ed70892da4"
   },
   "outputs": [
    {
     "data": {
      "text/plain": [
       "array([[0., 0., 0., 0., 0., 0., 0., 0., 0., 0., 0., 0., 0., 0., 0., 1.,\n",
       "        0., 0., 0., 0., 0., 0., 0., 0., 0., 0., 0., 0., 0., 0., 0., 0.,\n",
       "        0., 0., 0., 0., 0., 0., 0., 0., 0., 0., 0.],\n",
       "       [0., 0., 1., 0., 0., 0., 0., 0., 0., 0., 0., 0., 0., 0., 0., 0.,\n",
       "        0., 0., 0., 0., 0., 0., 0., 0., 0., 0., 0., 0., 0., 0., 0., 0.,\n",
       "        0., 0., 0., 0., 0., 0., 0., 0., 0., 0., 0.],\n",
       "       [0., 0., 0., 1., 0., 0., 0., 0., 0., 0., 0., 0., 0., 0., 0., 0.,\n",
       "        0., 0., 0., 0., 0., 0., 0., 0., 0., 0., 0., 0., 0., 0., 0., 0.,\n",
       "        0., 0., 0., 0., 0., 0., 0., 0., 0., 0., 0.],\n",
       "       [0., 0., 0., 0., 0., 0., 0., 0., 0., 0., 0., 0., 0., 0., 0., 0.,\n",
       "        0., 0., 0., 0., 0., 0., 0., 0., 0., 0., 0., 0., 0., 0., 0., 0.,\n",
       "        0., 0., 0., 0., 0., 0., 1., 0., 0., 0., 0.],\n",
       "       [0., 0., 0., 0., 1., 0., 0., 0., 0., 0., 0., 0., 0., 0., 0., 0.,\n",
       "        0., 0., 0., 0., 0., 0., 0., 0., 0., 0., 0., 0., 0., 0., 0., 0.,\n",
       "        0., 0., 0., 0., 0., 0., 0., 0., 0., 0., 0.]], dtype=float32)"
      ]
     },
     "execution_count": 25,
     "metadata": {
      "tags": []
     },
     "output_type": "execute_result"
    }
   ],
   "source": [
    "y_tst[0:5]  #y_TST and y_tst both check "
   ]
  },
  {
   "cell_type": "code",
   "execution_count": 0,
   "metadata": {
    "colab": {},
    "colab_type": "code",
    "id": "yxSJPt-en2Br"
   },
   "outputs": [],
   "source": [
    "y_HAT = [np.argmax(yhat[i]) for i in range(len(yhat))]"
   ]
  },
  {
   "cell_type": "code",
   "execution_count": 27,
   "metadata": {
    "colab": {
     "base_uri": "https://localhost:8080/",
     "height": 34
    },
    "colab_type": "code",
    "id": "1_NiK8FLtQEy",
    "outputId": "d64c1e8f-961a-4473-9de7-716428eca15e"
   },
   "outputs": [
    {
     "data": {
      "text/plain": [
       "[15, 2, 3, 38, 4]"
      ]
     },
     "execution_count": 27,
     "metadata": {
      "tags": []
     },
     "output_type": "execute_result"
    }
   ],
   "source": [
    "y_HAT[0:5]"
   ]
  },
  {
   "cell_type": "code",
   "execution_count": 28,
   "metadata": {
    "colab": {
     "base_uri": "https://localhost:8080/",
     "height": 500
    },
    "colab_type": "code",
    "id": "Csy-LHTv0vz9",
    "outputId": "4757dda5-2f7d-46a6-aca8-d2aeba15567c"
   },
   "outputs": [
    {
     "data": {
      "text/plain": [
       "(array([ 16., 108., 105.,  69.,  98.,  95.,  19.,  75.,  65.,  68., 100.,\n",
       "         63., 112., 122.,  43.,  27.,  21.,  70.,  60.,  11.,  14.,  21.,\n",
       "         10.,  24.,  11.,  72.,  23.,  10.,  19.,  11.,  31.,  27.,   5.,\n",
       "         32.,  31.,  57.,  16.,   8., 114.,  24.,  19.,  17.,  18.]),\n",
       " array([ 0.        ,  0.97674419,  1.95348837,  2.93023256,  3.90697674,\n",
       "         4.88372093,  5.86046512,  6.8372093 ,  7.81395349,  8.79069767,\n",
       "         9.76744186, 10.74418605, 11.72093023, 12.69767442, 13.6744186 ,\n",
       "        14.65116279, 15.62790698, 16.60465116, 17.58139535, 18.55813953,\n",
       "        19.53488372, 20.51162791, 21.48837209, 22.46511628, 23.44186047,\n",
       "        24.41860465, 25.39534884, 26.37209302, 27.34883721, 28.3255814 ,\n",
       "        29.30232558, 30.27906977, 31.25581395, 32.23255814, 33.20930233,\n",
       "        34.18604651, 35.1627907 , 36.13953488, 37.11627907, 38.09302326,\n",
       "        39.06976744, 40.04651163, 41.02325581, 42.        ]),\n",
       " <a list of 43 Patch objects>)"
      ]
     },
     "execution_count": 28,
     "metadata": {
      "tags": []
     },
     "output_type": "execute_result"
    },
    {
     "data": {
      "image/png": "[encoded data removed]",
      "text/plain": [
       "<Figure size 432x288 with 1 Axes>"
      ]
     },
     "metadata": {
      "needs_background": "light",
      "tags": []
     },
     "output_type": "display_data"
    }
   ],
   "source": [
    "\n",
    "plt.hist(y_HAT, color = 'r', alpha = 0.9, bins = 43)\n",
    "plt.hist(y_TST, color='b', alpha = 0.4, bins = 43)"
   ]
  },
  {
   "cell_type": "markdown",
   "metadata": {
    "colab_type": "text",
    "id": "aeYCkHs_Mbui"
   },
   "source": [
    "missclassification can be seen in the non overlapping areas\n"
   ]
  },
  {
   "cell_type": "markdown",
   "metadata": {
    "colab_type": "text",
    "id": "CzFSSeI8M74_"
   },
   "source": [
    "###code below not used - it is to see probabilities from the softmax"
   ]
  },
  {
   "cell_type": "code",
   "execution_count": 29,
   "metadata": {
    "colab": {
     "base_uri": "https://localhost:8080/",
     "height": 34
    },
    "colab_type": "code",
    "id": "HBHR9rlth8jg",
    "outputId": "ef998b89-5cc4-4ae0-dcf3-8207f7a5b7f0"
   },
   "outputs": [
    {
     "name": "stdout",
     "output_type": "stream",
     "text": [
      "12630/12630 [==============================] - 1s 85us/step\n"
     ]
    }
   ],
   "source": [
    "yhat_final = model.predict(xtest, verbose = True)\n",
    "y_HAT_final = [np.argmax(yhat_final[i]) for i in range(len(yhat_final))]\n",
    "y_HAT_finalP = [np.max(yhat_final[i]) for i in range(len(yhat_final))]"
   ]
  },
  {
   "cell_type": "code",
   "execution_count": 30,
   "metadata": {
    "colab": {
     "base_uri": "https://localhost:8080/",
     "height": 386
    },
    "colab_type": "code",
    "id": "rfth8k3xjxYM",
    "outputId": "7f7873db-bab2-43d6-d9df-471547f54070"
   },
   "outputs": [
    {
     "data": {
      "text/plain": [
       "array([[4.88063336e-07, 1.00801534e-09, 6.77827499e-12, 5.79216730e-10,\n",
       "        5.89931792e-09, 1.97034879e-05, 5.83450728e-08, 4.74472927e-06,\n",
       "        6.25310804e-07, 8.04740921e-07, 1.15388701e-07, 2.89267348e-08,\n",
       "        2.01572026e-09, 9.41273587e-11, 7.30854310e-08, 1.86511409e-06,\n",
       "        9.99969482e-01, 1.70704375e-08, 4.91471326e-08, 1.90370372e-10,\n",
       "        1.78169639e-08, 1.49387887e-07, 4.13809232e-07, 1.07968155e-07,\n",
       "        8.99692487e-10, 6.79985457e-10, 4.17013002e-09, 1.51781933e-07,\n",
       "        4.15909867e-08, 2.38604400e-07, 1.05315454e-08, 7.38812460e-08,\n",
       "        2.51790517e-08, 4.91287366e-09, 1.61741065e-09, 5.34045741e-09,\n",
       "        8.14438916e-09, 1.98756034e-09, 2.30225750e-09, 8.90123752e-10,\n",
       "        2.94837804e-07, 4.14179965e-07, 3.45475506e-08],\n",
       "       [3.13379864e-08, 1.00000000e+00, 1.43865908e-09, 5.86136565e-12,\n",
       "        3.35849890e-08, 6.23317975e-09, 1.60993163e-09, 2.44177559e-14,\n",
       "        1.33954675e-12, 3.67512095e-15, 1.10965089e-12, 1.73174328e-13,\n",
       "        1.56149467e-13, 6.25058772e-12, 1.98627746e-11, 9.01621087e-15,\n",
       "        8.93301167e-13, 1.39997443e-12, 5.96239413e-09, 1.01488934e-12,\n",
       "        1.04129780e-12, 1.26971758e-11, 3.07948545e-13, 2.54255102e-12,\n",
       "        1.90425835e-11, 5.42659797e-12, 2.36940762e-12, 2.23245658e-11,\n",
       "        8.45666581e-14, 7.01621649e-13, 2.45445182e-15, 1.82227271e-11,\n",
       "        6.95970110e-14, 5.50274453e-13, 1.65435211e-13, 3.17065818e-13,\n",
       "        4.92423637e-12, 1.23491070e-11, 2.20034962e-11, 7.09242506e-13,\n",
       "        7.48986539e-13, 2.12012677e-12, 1.26149568e-11]], dtype=float32)"
      ]
     },
     "execution_count": 30,
     "metadata": {
      "tags": []
     },
     "output_type": "execute_result"
    }
   ],
   "source": [
    "yhat_final[0:2]"
   ]
  },
  {
   "cell_type": "code",
   "execution_count": 31,
   "metadata": {
    "colab": {
     "base_uri": "https://localhost:8080/",
     "height": 34
    },
    "colab_type": "code",
    "id": "uPMP-Lflj1bT",
    "outputId": "9429b42a-3beb-42d5-9fb5-5e43e986465e"
   },
   "outputs": [
    {
     "data": {
      "text/plain": [
       "[16, 1, 38, 33, 11]"
      ]
     },
     "execution_count": 31,
     "metadata": {
      "tags": []
     },
     "output_type": "execute_result"
    }
   ],
   "source": [
    "y_HAT_final[0:5]  #predicted labels"
   ]
  },
  {
   "cell_type": "code",
   "execution_count": 32,
   "metadata": {
    "colab": {
     "base_uri": "https://localhost:8080/",
     "height": 34
    },
    "colab_type": "code",
    "id": "aG7SRArXVDDs",
    "outputId": "c193fa61-bd59-401e-f1de-e6fb41635118"
   },
   "outputs": [
    {
     "data": {
      "text/plain": [
       "[0.9999695, 1.0, 0.9999999, 0.99967444, 0.99999976]"
      ]
     },
     "execution_count": 32,
     "metadata": {
      "tags": []
     },
     "output_type": "execute_result"
    }
   ],
   "source": [
    "y_HAT_finalP[0:5]  #predicted probabilities"
   ]
  }
 ],
 "metadata": {
  "accelerator": "GPU",
  "colab": {
   "name": "german_signs4.ipynb",
   "provenance": []
  },
  "kernelspec": {
   "display_name": "Python 3",
   "language": "python",
   "name": "python3"
  },
  "language_info": {
   "codemirror_mode": {
    "name": "ipython",
    "version": 3
   },
   "file_extension": ".py",
   "mimetype": "text/x-python",
   "name": "python",
   "nbconvert_exporter": "python",
   "pygments_lexer": "ipython3",
   "version": "3.7.3"
  }
 },
 "nbformat": 4,
 "nbformat_minor": 1
}
